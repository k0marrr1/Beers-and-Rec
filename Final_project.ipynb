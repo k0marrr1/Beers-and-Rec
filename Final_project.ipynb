{
 "cells": [
  {
   "cell_type": "markdown",
   "metadata": {},
   "source": [
    "# Packages"
   ]
  },
  {
   "cell_type": "code",
   "execution_count": 2,
   "metadata": {},
   "outputs": [],
   "source": [
    "import pandas as pd\n",
    "import numpy as np\n",
    "from sklearn.metrics.pairwise import pairwise_distances \n",
    "from scipy.sparse.linalg import svds\n",
    "from surprise import Reader\n",
    "from surprise import Dataset\n",
    "from surprise.model_selection import cross_validate\n",
    "from surprise import NormalPredictor\n",
    "from surprise import KNNBasic\n",
    "from surprise import KNNWithMeans\n",
    "from surprise import KNNWithZScore\n",
    "from surprise import KNNBaseline\n",
    "from surprise import SVD\n",
    "from surprise import BaselineOnly\n",
    "from surprise import SVDpp\n",
    "from surprise import NMF\n",
    "from surprise import SlopeOne\n",
    "from surprise import CoClustering\n",
    "from surprise.accuracy import rmse\n",
    "from surprise import accuracy\n",
    "from surprise.model_selection import train_test_split\n",
    "from surprise import evaluate\n",
    "from surprise.model_selection import GridSearchCV"
   ]
  },
  {
   "cell_type": "markdown",
   "metadata": {},
   "source": [
    "# Helper Functions"
   ]
  },
  {
   "cell_type": "code",
   "execution_count": 19,
   "metadata": {},
   "outputs": [],
   "source": [
    "#Pandas DataFrame with all Predictions\n",
    "def get_Iu(uid):\n",
    "    #return the number of items rated by given user\n",
    "    #args: \n",
    "    #uid: the id of the user\n",
    "    #returns: \n",
    "    #the number of items rated by the user\n",
    "\n",
    "    try:\n",
    "        return len(trainset.ur[trainset.to_inner_uid(uid)])\n",
    "    except ValueError: # user was not part of the trainset\n",
    "        return 0\n",
    "    \n",
    "def get_Ui(iid):\n",
    "    #return number of users that have rated given item\n",
    "    #args:\n",
    "    #iid: the raw id of the item\n",
    "    #returns:\n",
    "    #the number of users that have rated the item.\n",
    "    try: \n",
    "        return len(trainset.ir[trainset.to_inner_iid(iid)])\n",
    "    except ValueError:\n",
    "        return 0"
   ]
  },
  {
   "cell_type": "markdown",
   "metadata": {},
   "source": [
    "# Data Collection"
   ]
  },
  {
   "cell_type": "markdown",
   "metadata": {},
   "source": [
    "The Data was taken from two different beer review sites: Ratebeer.com, BeerAdvocate.com \n",
    "\n",
    "To narrow down the 1.5 Million reviews I opted to only recommend canned beer. Beer Data was obtained from: CraftCans.com"
   ]
  },
  {
   "cell_type": "markdown",
   "metadata": {},
   "source": [
    "# Data Preperation"
   ]
  },
  {
   "cell_type": "code",
   "execution_count": 3,
   "metadata": {},
   "outputs": [],
   "source": [
    "# Import the Data\n",
    "df1 = pd.read_csv('beer_reviews.csv')\n",
    "df1.rename(columns={'beer_name': 'name'}, inplace=True)\n",
    "df2 = pd.read_csv('beers.csv', index_col='Unnamed: 0')"
   ]
  },
  {
   "cell_type": "code",
   "execution_count": 4,
   "metadata": {},
   "outputs": [],
   "source": [
    "#Merge DataFrames and drop uneeded features\n",
    "final = df1.merge(df2, on='name')\n",
    "final.drop(columns = 'brewery_id_x', inplace=True)\n",
    "final.drop(columns = 'brewery_id_y', inplace=True)\n",
    "final.drop(columns = 'beer_style', inplace=True)\n",
    "final.drop(columns = 'beer_abv', inplace=True)\n",
    "final.drop(columns = 'beer_beerid', inplace=True)"
   ]
  },
  {
   "cell_type": "code",
   "execution_count": 5,
   "metadata": {},
   "outputs": [],
   "source": [
    "# Since there was no user id with the data we have to make our own\n",
    "#Create User ID\n",
    "final['user_id'] = final.review_profilename.astype('category').cat.codes"
   ]
  },
  {
   "cell_type": "code",
   "execution_count": 6,
   "metadata": {},
   "outputs": [
    {
     "data": {
      "text/html": [
       "<div>\n",
       "<style scoped>\n",
       "    .dataframe tbody tr th:only-of-type {\n",
       "        vertical-align: middle;\n",
       "    }\n",
       "\n",
       "    .dataframe tbody tr th {\n",
       "        vertical-align: top;\n",
       "    }\n",
       "\n",
       "    .dataframe thead th {\n",
       "        text-align: right;\n",
       "    }\n",
       "</style>\n",
       "<table border=\"1\" class=\"dataframe\">\n",
       "  <thead>\n",
       "    <tr style=\"text-align: right;\">\n",
       "      <th></th>\n",
       "      <th>brewery_name</th>\n",
       "      <th>review_time</th>\n",
       "      <th>review_overall</th>\n",
       "      <th>review_aroma</th>\n",
       "      <th>review_appearance</th>\n",
       "      <th>review_profilename</th>\n",
       "      <th>review_palate</th>\n",
       "      <th>review_taste</th>\n",
       "      <th>name</th>\n",
       "      <th>abv</th>\n",
       "      <th>ibu</th>\n",
       "      <th>id</th>\n",
       "      <th>style</th>\n",
       "      <th>ounces</th>\n",
       "      <th>user_id</th>\n",
       "    </tr>\n",
       "  </thead>\n",
       "  <tbody>\n",
       "    <tr>\n",
       "      <td>0</td>\n",
       "      <td>Caldera Brewing Company</td>\n",
       "      <td>1251327677</td>\n",
       "      <td>4.0</td>\n",
       "      <td>3.5</td>\n",
       "      <td>3.5</td>\n",
       "      <td>NJpadreFan</td>\n",
       "      <td>4.0</td>\n",
       "      <td>4.0</td>\n",
       "      <td>Caldera Pale Ale</td>\n",
       "      <td>0.056</td>\n",
       "      <td>55.0</td>\n",
       "      <td>1419</td>\n",
       "      <td>American Pale Ale (APA)</td>\n",
       "      <td>12.0</td>\n",
       "      <td>2966</td>\n",
       "    </tr>\n",
       "    <tr>\n",
       "      <td>1</td>\n",
       "      <td>Caldera Brewing Company</td>\n",
       "      <td>1250928902</td>\n",
       "      <td>2.5</td>\n",
       "      <td>3.0</td>\n",
       "      <td>3.5</td>\n",
       "      <td>vacax</td>\n",
       "      <td>3.5</td>\n",
       "      <td>2.5</td>\n",
       "      <td>Caldera Pale Ale</td>\n",
       "      <td>0.056</td>\n",
       "      <td>55.0</td>\n",
       "      <td>1419</td>\n",
       "      <td>American Pale Ale (APA)</td>\n",
       "      <td>12.0</td>\n",
       "      <td>10492</td>\n",
       "    </tr>\n",
       "    <tr>\n",
       "      <td>2</td>\n",
       "      <td>Caldera Brewing Company</td>\n",
       "      <td>1249866208</td>\n",
       "      <td>4.0</td>\n",
       "      <td>3.5</td>\n",
       "      <td>4.0</td>\n",
       "      <td>d0ggnate</td>\n",
       "      <td>4.0</td>\n",
       "      <td>3.5</td>\n",
       "      <td>Caldera Pale Ale</td>\n",
       "      <td>0.056</td>\n",
       "      <td>55.0</td>\n",
       "      <td>1419</td>\n",
       "      <td>American Pale Ale (APA)</td>\n",
       "      <td>12.0</td>\n",
       "      <td>5938</td>\n",
       "    </tr>\n",
       "    <tr>\n",
       "      <td>3</td>\n",
       "      <td>Caldera Brewing Company</td>\n",
       "      <td>1249847121</td>\n",
       "      <td>4.5</td>\n",
       "      <td>3.5</td>\n",
       "      <td>4.0</td>\n",
       "      <td>babyhobbes</td>\n",
       "      <td>3.5</td>\n",
       "      <td>4.0</td>\n",
       "      <td>Caldera Pale Ale</td>\n",
       "      <td>0.056</td>\n",
       "      <td>55.0</td>\n",
       "      <td>1419</td>\n",
       "      <td>American Pale Ale (APA)</td>\n",
       "      <td>12.0</td>\n",
       "      <td>4856</td>\n",
       "    </tr>\n",
       "    <tr>\n",
       "      <td>4</td>\n",
       "      <td>Caldera Brewing Company</td>\n",
       "      <td>1249556277</td>\n",
       "      <td>4.5</td>\n",
       "      <td>3.5</td>\n",
       "      <td>4.0</td>\n",
       "      <td>mdagnew</td>\n",
       "      <td>4.0</td>\n",
       "      <td>4.0</td>\n",
       "      <td>Caldera Pale Ale</td>\n",
       "      <td>0.056</td>\n",
       "      <td>55.0</td>\n",
       "      <td>1419</td>\n",
       "      <td>American Pale Ale (APA)</td>\n",
       "      <td>12.0</td>\n",
       "      <td>8260</td>\n",
       "    </tr>\n",
       "  </tbody>\n",
       "</table>\n",
       "</div>"
      ],
      "text/plain": [
       "              brewery_name  review_time  review_overall  review_aroma  \\\n",
       "0  Caldera Brewing Company   1251327677             4.0           3.5   \n",
       "1  Caldera Brewing Company   1250928902             2.5           3.0   \n",
       "2  Caldera Brewing Company   1249866208             4.0           3.5   \n",
       "3  Caldera Brewing Company   1249847121             4.5           3.5   \n",
       "4  Caldera Brewing Company   1249556277             4.5           3.5   \n",
       "\n",
       "   review_appearance review_profilename  review_palate  review_taste  \\\n",
       "0                3.5         NJpadreFan            4.0           4.0   \n",
       "1                3.5              vacax            3.5           2.5   \n",
       "2                4.0           d0ggnate            4.0           3.5   \n",
       "3                4.0         babyhobbes            3.5           4.0   \n",
       "4                4.0            mdagnew            4.0           4.0   \n",
       "\n",
       "               name    abv   ibu    id                    style  ounces  \\\n",
       "0  Caldera Pale Ale  0.056  55.0  1419  American Pale Ale (APA)    12.0   \n",
       "1  Caldera Pale Ale  0.056  55.0  1419  American Pale Ale (APA)    12.0   \n",
       "2  Caldera Pale Ale  0.056  55.0  1419  American Pale Ale (APA)    12.0   \n",
       "3  Caldera Pale Ale  0.056  55.0  1419  American Pale Ale (APA)    12.0   \n",
       "4  Caldera Pale Ale  0.056  55.0  1419  American Pale Ale (APA)    12.0   \n",
       "\n",
       "   user_id  \n",
       "0     2966  \n",
       "1    10492  \n",
       "2     5938  \n",
       "3     4856  \n",
       "4     8260  "
      ]
     },
     "execution_count": 6,
     "metadata": {},
     "output_type": "execute_result"
    }
   ],
   "source": [
    "final.head()"
   ]
  },
  {
   "cell_type": "code",
   "execution_count": 7,
   "metadata": {},
   "outputs": [],
   "source": [
    "# We have to create a dataframe of beers. To do this we will create a new dataframe from our final dataframe and\n",
    "# drop the duplicated\n",
    "#Create Frame with Beer attributes\n",
    "beers = final[['id', 'brewery_name', 'name', 'abv', 'ibu', 'style', 'ounces' ]]\n",
    "#Drop Duplicates\n",
    "beers = beers.drop_duplicates(subset='name')"
   ]
  },
  {
   "cell_type": "code",
   "execution_count": 8,
   "metadata": {},
   "outputs": [],
   "source": [
    "# Since not all Beers have an IBU value, we can replace them with zero\n",
    "# Fill NA's with zero so none of the ibus are missing. \n",
    "beers.fillna(0, inplace=True)"
   ]
  },
  {
   "cell_type": "code",
   "execution_count": 9,
   "metadata": {},
   "outputs": [],
   "source": [
    "# Now lets create a dataFrame with just the reviews\n",
    "ratings = final[['id', 'user_id', 'review_profilename', 'review_taste']]"
   ]
  },
  {
   "cell_type": "markdown",
   "metadata": {},
   "source": [
    "# Modeling Process"
   ]
  },
  {
   "cell_type": "code",
   "execution_count": 10,
   "metadata": {},
   "outputs": [],
   "source": [
    "#Load Data Into Surprise Reader and Dataset, I will be using Review Taste as a rating metric. \n",
    "reader = Reader(rating_scale=(0, 5))\n",
    "data = Dataset.load_from_df(final[['user_id', 'id', 'review_taste']], reader)"
   ]
  },
  {
   "cell_type": "code",
   "execution_count": 11,
   "metadata": {},
   "outputs": [
    {
     "name": "stdout",
     "output_type": "stream",
     "text": [
      "Evaluating RMSE, MAE of algorithm SVD on 3 split(s).\n",
      "\n",
      "                  Fold 1  Fold 2  Fold 3  Mean    Std     \n",
      "RMSE (testset)    0.5474  0.5449  0.5450  0.5458  0.0012  \n",
      "MAE (testset)     0.4084  0.4066  0.4063  0.4071  0.0009  \n",
      "Fit time          4.23    4.51    4.18    4.31    0.15    \n",
      "Test time         0.35    0.30    0.30    0.32    0.02    \n",
      "Evaluating RMSE, MAE of algorithm SVDpp on 3 split(s).\n",
      "\n",
      "                  Fold 1  Fold 2  Fold 3  Mean    Std     \n",
      "RMSE (testset)    0.5412  0.5389  0.5382  0.5394  0.0013  \n",
      "MAE (testset)     0.4016  0.4012  0.3993  0.4007  0.0010  \n",
      "Fit time          31.80   31.75   31.71   31.75   0.03    \n",
      "Test time         1.54    1.55    1.57    1.55    0.01    \n",
      "Evaluating RMSE, MAE of algorithm SlopeOne on 3 split(s).\n",
      "\n",
      "                  Fold 1  Fold 2  Fold 3  Mean    Std     \n",
      "RMSE (testset)    0.5667  0.5641  0.5722  0.5677  0.0034  \n",
      "MAE (testset)     0.4126  0.4103  0.4167  0.4132  0.0027  \n",
      "Fit time          0.21    0.22    0.22    0.22    0.00    \n",
      "Test time         1.12    1.09    1.12    1.11    0.01    \n",
      "Evaluating RMSE, MAE of algorithm NMF on 3 split(s).\n",
      "\n",
      "                  Fold 1  Fold 2  Fold 3  Mean    Std     \n",
      "RMSE (testset)    0.6653  0.6610  0.6542  0.6602  0.0046  \n",
      "MAE (testset)     0.5212  0.5195  0.5121  0.5176  0.0040  \n",
      "Fit time          5.00    5.05    4.96    5.01    0.04    \n",
      "Test time         0.31    0.22    0.22    0.25    0.04    \n",
      "Evaluating RMSE, MAE of algorithm NormalPredictor on 3 split(s).\n",
      "\n",
      "                  Fold 1  Fold 2  Fold 3  Mean    Std     \n",
      "RMSE (testset)    0.9203  0.9216  0.9206  0.9209  0.0006  \n",
      "MAE (testset)     0.7276  0.7289  0.7267  0.7277  0.0009  \n",
      "Fit time          0.11    0.11    0.12    0.11    0.00    \n",
      "Test time         0.21    0.20    0.29    0.23    0.04    \n",
      "Estimating biases using als...\n",
      "Computing the msd similarity matrix...\n",
      "Done computing similarity matrix.\n",
      "Estimating biases using als...\n",
      "Computing the msd similarity matrix...\n",
      "Done computing similarity matrix.\n",
      "Estimating biases using als...\n",
      "Computing the msd similarity matrix...\n",
      "Done computing similarity matrix.\n",
      "Evaluating RMSE, MAE of algorithm KNNBaseline on 3 split(s).\n",
      "\n",
      "                  Fold 1  Fold 2  Fold 3  Mean    Std     \n",
      "RMSE (testset)    0.5107  0.5101  0.5079  0.5096  0.0012  \n",
      "MAE (testset)     0.3543  0.3541  0.3514  0.3533  0.0013  \n",
      "Fit time          5.12    5.11    5.14    5.12    0.01    \n",
      "Test time         18.39   18.53   19.70   18.87   0.59    \n",
      "Computing the msd similarity matrix...\n",
      "Done computing similarity matrix.\n",
      "Computing the msd similarity matrix...\n",
      "Done computing similarity matrix.\n",
      "Computing the msd similarity matrix...\n",
      "Done computing similarity matrix.\n",
      "Evaluating RMSE, MAE of algorithm KNNBasic on 3 split(s).\n",
      "\n",
      "                  Fold 1  Fold 2  Fold 3  Mean    Std     \n",
      "RMSE (testset)    0.5180  0.5167  0.5247  0.5198  0.0035  \n",
      "MAE (testset)     0.3484  0.3467  0.3523  0.3492  0.0024  \n",
      "Fit time          5.30    6.85    6.75    6.30    0.71    \n",
      "Test time         22.09   19.48   18.67   20.08   1.46    \n",
      "Computing the msd similarity matrix...\n",
      "Done computing similarity matrix.\n",
      "Computing the msd similarity matrix...\n",
      "Done computing similarity matrix.\n",
      "Computing the msd similarity matrix...\n",
      "Done computing similarity matrix.\n",
      "Evaluating RMSE, MAE of algorithm KNNWithMeans on 3 split(s).\n",
      "\n",
      "                  Fold 1  Fold 2  Fold 3  Mean    Std     \n",
      "RMSE (testset)    0.5748  0.5721  0.5743  0.5737  0.0012  \n",
      "MAE (testset)     0.4227  0.4214  0.4229  0.4223  0.0007  \n",
      "Fit time          6.53    6.18    6.59    6.43    0.18    \n",
      "Test time         20.06   19.30   21.86   20.40   1.08    \n",
      "Computing the msd similarity matrix...\n",
      "Done computing similarity matrix.\n",
      "Computing the msd similarity matrix...\n",
      "Done computing similarity matrix.\n",
      "Computing the msd similarity matrix...\n",
      "Done computing similarity matrix.\n",
      "Evaluating RMSE, MAE of algorithm KNNWithZScore on 3 split(s).\n",
      "\n",
      "                  Fold 1  Fold 2  Fold 3  Mean    Std     \n",
      "RMSE (testset)    0.5805  0.5773  0.5700  0.5759  0.0044  \n",
      "MAE (testset)     0.4259  0.4243  0.4184  0.4229  0.0033  \n",
      "Fit time          5.46    7.41    6.68    6.52    0.81    \n",
      "Test time         20.44   22.05   18.92   20.47   1.28    \n",
      "Estimating biases using als...\n",
      "Estimating biases using als...\n",
      "Estimating biases using als...\n",
      "Evaluating RMSE, MAE of algorithm BaselineOnly on 3 split(s).\n",
      "\n",
      "                  Fold 1  Fold 2  Fold 3  Mean    Std     \n",
      "RMSE (testset)    0.5573  0.5589  0.5582  0.5581  0.0007  \n",
      "MAE (testset)     0.4159  0.4180  0.4163  0.4167  0.0009  \n",
      "Fit time          0.18    0.18    0.18    0.18    0.00    \n",
      "Test time         0.32    0.19    0.19    0.24    0.06    \n",
      "Evaluating RMSE, MAE of algorithm CoClustering on 3 split(s).\n",
      "\n",
      "                  Fold 1  Fold 2  Fold 3  Mean    Std     \n",
      "RMSE (testset)    0.6372  0.6379  0.6340  0.6364  0.0017  \n",
      "MAE (testset)     0.4934  0.4916  0.4898  0.4916  0.0015  \n",
      "Fit time          2.04    2.08    2.06    2.06    0.02    \n",
      "Test time         0.34    0.19    0.19    0.24    0.07    \n"
     ]
    }
   ],
   "source": [
    "# We are going to preform cross_validation to determine the test RMSE and MAE of each model to determine which one is the best\n",
    "benchmark = []\n",
    "# Iterate over all models\n",
    "for algorithm in [SVD(), SVDpp(), SlopeOne(), NMF(), NormalPredictor(), KNNBaseline(), KNNBasic(), KNNWithMeans(), KNNWithZScore(), BaselineOnly(), CoClustering()]:\n",
    "\n",
    "# Perform cross validation\n",
    "    results = cross_validate(algorithm, data, measures=['RMSE', 'MAE'], cv=3, verbose=True)\n",
    "    \n",
    "# Get results & append algorithm name\n",
    "    tmp = pd.DataFrame.from_dict(results).mean(axis=0)\n",
    "    tmp = tmp.append(pd.Series([str(algorithm).split(' ')[0].split('.')[-1]], index=['Algorithm']))\n",
    "    benchmark.append(tmp)"
   ]
  },
  {
   "cell_type": "code",
   "execution_count": 12,
   "metadata": {},
   "outputs": [
    {
     "data": {
      "text/html": [
       "<div>\n",
       "<style scoped>\n",
       "    .dataframe tbody tr th:only-of-type {\n",
       "        vertical-align: middle;\n",
       "    }\n",
       "\n",
       "    .dataframe tbody tr th {\n",
       "        vertical-align: top;\n",
       "    }\n",
       "\n",
       "    .dataframe thead th {\n",
       "        text-align: right;\n",
       "    }\n",
       "</style>\n",
       "<table border=\"1\" class=\"dataframe\">\n",
       "  <thead>\n",
       "    <tr style=\"text-align: right;\">\n",
       "      <th></th>\n",
       "      <th>test_rmse</th>\n",
       "      <th>test_mae</th>\n",
       "      <th>fit_time</th>\n",
       "      <th>test_time</th>\n",
       "    </tr>\n",
       "    <tr>\n",
       "      <th>Algorithm</th>\n",
       "      <th></th>\n",
       "      <th></th>\n",
       "      <th></th>\n",
       "      <th></th>\n",
       "    </tr>\n",
       "  </thead>\n",
       "  <tbody>\n",
       "    <tr>\n",
       "      <td>KNNBaseline</td>\n",
       "      <td>0.509561</td>\n",
       "      <td>0.353288</td>\n",
       "      <td>5.121686</td>\n",
       "      <td>18.869930</td>\n",
       "    </tr>\n",
       "    <tr>\n",
       "      <td>KNNBasic</td>\n",
       "      <td>0.519836</td>\n",
       "      <td>0.349158</td>\n",
       "      <td>6.297639</td>\n",
       "      <td>20.080120</td>\n",
       "    </tr>\n",
       "    <tr>\n",
       "      <td>SVDpp</td>\n",
       "      <td>0.539450</td>\n",
       "      <td>0.400728</td>\n",
       "      <td>31.750160</td>\n",
       "      <td>1.551463</td>\n",
       "    </tr>\n",
       "    <tr>\n",
       "      <td>SVD</td>\n",
       "      <td>0.545783</td>\n",
       "      <td>0.407079</td>\n",
       "      <td>4.305197</td>\n",
       "      <td>0.319089</td>\n",
       "    </tr>\n",
       "    <tr>\n",
       "      <td>BaselineOnly</td>\n",
       "      <td>0.558112</td>\n",
       "      <td>0.416718</td>\n",
       "      <td>0.181858</td>\n",
       "      <td>0.236002</td>\n",
       "    </tr>\n",
       "    <tr>\n",
       "      <td>SlopeOne</td>\n",
       "      <td>0.567677</td>\n",
       "      <td>0.413222</td>\n",
       "      <td>0.219733</td>\n",
       "      <td>1.108178</td>\n",
       "    </tr>\n",
       "    <tr>\n",
       "      <td>KNNWithMeans</td>\n",
       "      <td>0.573748</td>\n",
       "      <td>0.422328</td>\n",
       "      <td>6.431787</td>\n",
       "      <td>20.404572</td>\n",
       "    </tr>\n",
       "    <tr>\n",
       "      <td>KNNWithZScore</td>\n",
       "      <td>0.575926</td>\n",
       "      <td>0.422875</td>\n",
       "      <td>6.518571</td>\n",
       "      <td>20.469176</td>\n",
       "    </tr>\n",
       "    <tr>\n",
       "      <td>CoClustering</td>\n",
       "      <td>0.636380</td>\n",
       "      <td>0.491617</td>\n",
       "      <td>2.059014</td>\n",
       "      <td>0.238973</td>\n",
       "    </tr>\n",
       "    <tr>\n",
       "      <td>NMF</td>\n",
       "      <td>0.660172</td>\n",
       "      <td>0.517569</td>\n",
       "      <td>5.006091</td>\n",
       "      <td>0.247454</td>\n",
       "    </tr>\n",
       "    <tr>\n",
       "      <td>NormalPredictor</td>\n",
       "      <td>0.920854</td>\n",
       "      <td>0.727748</td>\n",
       "      <td>0.111121</td>\n",
       "      <td>0.230390</td>\n",
       "    </tr>\n",
       "  </tbody>\n",
       "</table>\n",
       "</div>"
      ],
      "text/plain": [
       "                 test_rmse  test_mae   fit_time  test_time\n",
       "Algorithm                                                 \n",
       "KNNBaseline       0.509561  0.353288   5.121686  18.869930\n",
       "KNNBasic          0.519836  0.349158   6.297639  20.080120\n",
       "SVDpp             0.539450  0.400728  31.750160   1.551463\n",
       "SVD               0.545783  0.407079   4.305197   0.319089\n",
       "BaselineOnly      0.558112  0.416718   0.181858   0.236002\n",
       "SlopeOne          0.567677  0.413222   0.219733   1.108178\n",
       "KNNWithMeans      0.573748  0.422328   6.431787  20.404572\n",
       "KNNWithZScore     0.575926  0.422875   6.518571  20.469176\n",
       "CoClustering      0.636380  0.491617   2.059014   0.238973\n",
       "NMF               0.660172  0.517569   5.006091   0.247454\n",
       "NormalPredictor   0.920854  0.727748   0.111121   0.230390"
      ]
     },
     "execution_count": 12,
     "metadata": {},
     "output_type": "execute_result"
    }
   ],
   "source": [
    "# Turn Results into dataframe and check results\n",
    "surprise_results = pd.DataFrame(benchmark).set_index('Algorithm').sort_values('test_rmse')\n",
    "surprise_results"
   ]
  },
  {
   "cell_type": "markdown",
   "metadata": {},
   "source": [
    "We can see that the test rmse for KNN Baseline was the best and the NormalPredictor was the worst"
   ]
  },
  {
   "cell_type": "markdown",
   "metadata": {},
   "source": [
    "# Modeling"
   ]
  },
  {
   "cell_type": "markdown",
   "metadata": {},
   "source": [
    "We are going to be making 3 models. First the Normal Predictor to establish some base predictions. Then the BaselineOnly model that gives the baseline estimates for users. Finally KNNBaseline, a collaberative filtering algorithm that takes into account the baseline rating os users. "
   ]
  },
  {
   "cell_type": "markdown",
   "metadata": {},
   "source": [
    "## Normal Predictor"
   ]
  },
  {
   "cell_type": "code",
   "execution_count": 14,
   "metadata": {},
   "outputs": [],
   "source": [
    "# This model will give random rating based on the distribution of the data"
   ]
  },
  {
   "cell_type": "code",
   "execution_count": 59,
   "metadata": {},
   "outputs": [
    {
     "name": "stdout",
     "output_type": "stream",
     "text": [
      "Using ALS\n"
     ]
    },
    {
     "data": {
      "text/plain": [
       "{'test_rmse': array([0.92143036, 0.92005711, 0.91653945]),\n",
       " 'fit_time': (0.10838603973388672, 0.11768722534179688, 0.11794304847717285),\n",
       " 'test_time': (0.5653979778289795, 0.33387207984924316, 0.32597780227661133)}"
      ]
     },
     "execution_count": 59,
     "metadata": {},
     "output_type": "execute_result"
    }
   ],
   "source": [
    "# Estimating Baseline Model using Alternating Least Squares\n",
    "print('Using ALS')\n",
    "algo = NormalPredictor()\n",
    "cross_validate(algo, data, measures=['RMSE'], cv=3, verbose=False)"
   ]
  },
  {
   "cell_type": "code",
   "execution_count": 60,
   "metadata": {},
   "outputs": [
    {
     "name": "stdout",
     "output_type": "stream",
     "text": [
      "RMSE: 0.9156\n"
     ]
    },
    {
     "data": {
      "text/plain": [
       "0.915608165842713"
      ]
     },
     "execution_count": 60,
     "metadata": {},
     "output_type": "execute_result"
    }
   ],
   "source": [
    "trainset, testset = train_test_split(data, test_size=0.25)\n",
    "algo = NormalPredictor()\n",
    "predictions = algo.fit(trainset).test(testset)\n",
    "accuracy.rmse(predictions)"
   ]
  },
  {
   "cell_type": "code",
   "execution_count": 61,
   "metadata": {},
   "outputs": [],
   "source": [
    "df = pd.DataFrame(predictions, columns=['uid', 'iid', 'rui', 'est', 'details'])\n",
    "df['Iu'] = df.uid.apply(get_Iu)\n",
    "df['Ui'] = df.iid.apply(get_Ui)\n",
    "df['err'] = abs(df.est - df.rui)\n",
    "df.rename(columns={'uid': 'user_id'}, inplace=True)\n",
    "df.rename(columns={'iid': 'beer_id'}, inplace=True)\n",
    "df.rename(columns={'Ui': 'number_ratings_beer'}, inplace=True)\n",
    "df.rename(columns={'Iu': 'number_ratings_user'}, inplace=True)"
   ]
  },
  {
   "cell_type": "code",
   "execution_count": 62,
   "metadata": {},
   "outputs": [
    {
     "data": {
      "text/html": [
       "<div>\n",
       "<style scoped>\n",
       "    .dataframe tbody tr th:only-of-type {\n",
       "        vertical-align: middle;\n",
       "    }\n",
       "\n",
       "    .dataframe tbody tr th {\n",
       "        vertical-align: top;\n",
       "    }\n",
       "\n",
       "    .dataframe thead th {\n",
       "        text-align: right;\n",
       "    }\n",
       "</style>\n",
       "<table border=\"1\" class=\"dataframe\">\n",
       "  <thead>\n",
       "    <tr style=\"text-align: right;\">\n",
       "      <th></th>\n",
       "      <th>user_id</th>\n",
       "      <th>beer_id</th>\n",
       "      <th>rui</th>\n",
       "      <th>est</th>\n",
       "      <th>details</th>\n",
       "      <th>number_ratings_user</th>\n",
       "      <th>number_ratings_beer</th>\n",
       "      <th>err</th>\n",
       "    </tr>\n",
       "  </thead>\n",
       "  <tbody>\n",
       "    <tr>\n",
       "      <td>0</td>\n",
       "      <td>5221</td>\n",
       "      <td>2578</td>\n",
       "      <td>3.5</td>\n",
       "      <td>2.090270</td>\n",
       "      <td>{'was_impossible': False}</td>\n",
       "      <td>8</td>\n",
       "      <td>1184</td>\n",
       "      <td>1.409730</td>\n",
       "    </tr>\n",
       "    <tr>\n",
       "      <td>1</td>\n",
       "      <td>9889</td>\n",
       "      <td>1920</td>\n",
       "      <td>3.5</td>\n",
       "      <td>3.256822</td>\n",
       "      <td>{'was_impossible': False}</td>\n",
       "      <td>48</td>\n",
       "      <td>360</td>\n",
       "      <td>0.243178</td>\n",
       "    </tr>\n",
       "    <tr>\n",
       "      <td>2</td>\n",
       "      <td>8084</td>\n",
       "      <td>1387</td>\n",
       "      <td>3.5</td>\n",
       "      <td>3.904277</td>\n",
       "      <td>{'was_impossible': False}</td>\n",
       "      <td>36</td>\n",
       "      <td>217</td>\n",
       "      <td>0.404277</td>\n",
       "    </tr>\n",
       "    <tr>\n",
       "      <td>3</td>\n",
       "      <td>4451</td>\n",
       "      <td>2079</td>\n",
       "      <td>4.0</td>\n",
       "      <td>3.939735</td>\n",
       "      <td>{'was_impossible': False}</td>\n",
       "      <td>37</td>\n",
       "      <td>1106</td>\n",
       "      <td>0.060265</td>\n",
       "    </tr>\n",
       "    <tr>\n",
       "      <td>4</td>\n",
       "      <td>4246</td>\n",
       "      <td>583</td>\n",
       "      <td>4.0</td>\n",
       "      <td>3.671362</td>\n",
       "      <td>{'was_impossible': False}</td>\n",
       "      <td>5</td>\n",
       "      <td>796</td>\n",
       "      <td>0.328638</td>\n",
       "    </tr>\n",
       "  </tbody>\n",
       "</table>\n",
       "</div>"
      ],
      "text/plain": [
       "   user_id  beer_id  rui       est                    details  \\\n",
       "0     5221     2578  3.5  2.090270  {'was_impossible': False}   \n",
       "1     9889     1920  3.5  3.256822  {'was_impossible': False}   \n",
       "2     8084     1387  3.5  3.904277  {'was_impossible': False}   \n",
       "3     4451     2079  4.0  3.939735  {'was_impossible': False}   \n",
       "4     4246      583  4.0  3.671362  {'was_impossible': False}   \n",
       "\n",
       "   number_ratings_user  number_ratings_beer       err  \n",
       "0                    8                 1184  1.409730  \n",
       "1                   48                  360  0.243178  \n",
       "2                   36                  217  0.404277  \n",
       "3                   37                 1106  0.060265  \n",
       "4                    5                  796  0.328638  "
      ]
     },
     "execution_count": 62,
     "metadata": {},
     "output_type": "execute_result"
    }
   ],
   "source": [
    "df.head()\n",
    "#uid is user id, iid is beer id, Ui is number of ratings on beer, Iu is number of ratings by user. "
   ]
  },
  {
   "cell_type": "code",
   "execution_count": 63,
   "metadata": {},
   "outputs": [],
   "source": [
    "#Get Best and Worst Predictions out of Dataframe of Predictions\n",
    "best_predictions = df.sort_values(by='err')[:10]\n",
    "worst_predictions = df.sort_values(by='err')[-10:]"
   ]
  },
  {
   "cell_type": "code",
   "execution_count": 64,
   "metadata": {},
   "outputs": [
    {
     "data": {
      "text/html": [
       "<div>\n",
       "<style scoped>\n",
       "    .dataframe tbody tr th:only-of-type {\n",
       "        vertical-align: middle;\n",
       "    }\n",
       "\n",
       "    .dataframe tbody tr th {\n",
       "        vertical-align: top;\n",
       "    }\n",
       "\n",
       "    .dataframe thead th {\n",
       "        text-align: right;\n",
       "    }\n",
       "</style>\n",
       "<table border=\"1\" class=\"dataframe\">\n",
       "  <thead>\n",
       "    <tr style=\"text-align: right;\">\n",
       "      <th></th>\n",
       "      <th>user_id</th>\n",
       "      <th>beer_id</th>\n",
       "      <th>rui</th>\n",
       "      <th>est</th>\n",
       "      <th>details</th>\n",
       "      <th>number_ratings_user</th>\n",
       "      <th>number_ratings_beer</th>\n",
       "      <th>err</th>\n",
       "    </tr>\n",
       "  </thead>\n",
       "  <tbody>\n",
       "    <tr>\n",
       "      <td>1752</td>\n",
       "      <td>5433</td>\n",
       "      <td>18</td>\n",
       "      <td>5.0</td>\n",
       "      <td>5.0</td>\n",
       "      <td>{'was_impossible': False}</td>\n",
       "      <td>5</td>\n",
       "      <td>222</td>\n",
       "      <td>0.0</td>\n",
       "    </tr>\n",
       "    <tr>\n",
       "      <td>23168</td>\n",
       "      <td>440</td>\n",
       "      <td>32</td>\n",
       "      <td>5.0</td>\n",
       "      <td>5.0</td>\n",
       "      <td>{'was_impossible': False}</td>\n",
       "      <td>27</td>\n",
       "      <td>512</td>\n",
       "      <td>0.0</td>\n",
       "    </tr>\n",
       "    <tr>\n",
       "      <td>36</td>\n",
       "      <td>7170</td>\n",
       "      <td>12</td>\n",
       "      <td>5.0</td>\n",
       "      <td>5.0</td>\n",
       "      <td>{'was_impossible': False}</td>\n",
       "      <td>12</td>\n",
       "      <td>927</td>\n",
       "      <td>0.0</td>\n",
       "    </tr>\n",
       "    <tr>\n",
       "      <td>18917</td>\n",
       "      <td>5584</td>\n",
       "      <td>1111</td>\n",
       "      <td>5.0</td>\n",
       "      <td>5.0</td>\n",
       "      <td>{'was_impossible': False}</td>\n",
       "      <td>0</td>\n",
       "      <td>351</td>\n",
       "      <td>0.0</td>\n",
       "    </tr>\n",
       "    <tr>\n",
       "      <td>16392</td>\n",
       "      <td>8995</td>\n",
       "      <td>590</td>\n",
       "      <td>5.0</td>\n",
       "      <td>5.0</td>\n",
       "      <td>{'was_impossible': False}</td>\n",
       "      <td>3</td>\n",
       "      <td>344</td>\n",
       "      <td>0.0</td>\n",
       "    </tr>\n",
       "  </tbody>\n",
       "</table>\n",
       "</div>"
      ],
      "text/plain": [
       "       user_id  beer_id  rui  est                    details  \\\n",
       "1752      5433       18  5.0  5.0  {'was_impossible': False}   \n",
       "23168      440       32  5.0  5.0  {'was_impossible': False}   \n",
       "36        7170       12  5.0  5.0  {'was_impossible': False}   \n",
       "18917     5584     1111  5.0  5.0  {'was_impossible': False}   \n",
       "16392     8995      590  5.0  5.0  {'was_impossible': False}   \n",
       "\n",
       "       number_ratings_user  number_ratings_beer  err  \n",
       "1752                     5                  222  0.0  \n",
       "23168                   27                  512  0.0  \n",
       "36                      12                  927  0.0  \n",
       "18917                    0                  351  0.0  \n",
       "16392                    3                  344  0.0  "
      ]
     },
     "execution_count": 64,
     "metadata": {},
     "output_type": "execute_result"
    }
   ],
   "source": [
    "best_predictions.head()"
   ]
  },
  {
   "cell_type": "code",
   "execution_count": 65,
   "metadata": {},
   "outputs": [
    {
     "data": {
      "text/html": [
       "<div>\n",
       "<style scoped>\n",
       "    .dataframe tbody tr th:only-of-type {\n",
       "        vertical-align: middle;\n",
       "    }\n",
       "\n",
       "    .dataframe tbody tr th {\n",
       "        vertical-align: top;\n",
       "    }\n",
       "\n",
       "    .dataframe thead th {\n",
       "        text-align: right;\n",
       "    }\n",
       "</style>\n",
       "<table border=\"1\" class=\"dataframe\">\n",
       "  <thead>\n",
       "    <tr style=\"text-align: right;\">\n",
       "      <th></th>\n",
       "      <th>user_id</th>\n",
       "      <th>beer_id</th>\n",
       "      <th>rui</th>\n",
       "      <th>est</th>\n",
       "      <th>details</th>\n",
       "      <th>number_ratings_user</th>\n",
       "      <th>number_ratings_beer</th>\n",
       "      <th>err</th>\n",
       "    </tr>\n",
       "  </thead>\n",
       "  <tbody>\n",
       "    <tr>\n",
       "      <td>17933</td>\n",
       "      <td>2673</td>\n",
       "      <td>360</td>\n",
       "      <td>1.5</td>\n",
       "      <td>5.000000</td>\n",
       "      <td>{'was_impossible': False}</td>\n",
       "      <td>14</td>\n",
       "      <td>1085</td>\n",
       "      <td>3.500000</td>\n",
       "    </tr>\n",
       "    <tr>\n",
       "      <td>11563</td>\n",
       "      <td>7897</td>\n",
       "      <td>1052</td>\n",
       "      <td>1.0</td>\n",
       "      <td>4.514743</td>\n",
       "      <td>{'was_impossible': False}</td>\n",
       "      <td>31</td>\n",
       "      <td>52</td>\n",
       "      <td>3.514743</td>\n",
       "    </tr>\n",
       "    <tr>\n",
       "      <td>9169</td>\n",
       "      <td>1179</td>\n",
       "      <td>1905</td>\n",
       "      <td>1.0</td>\n",
       "      <td>4.518613</td>\n",
       "      <td>{'was_impossible': False}</td>\n",
       "      <td>1</td>\n",
       "      <td>1913</td>\n",
       "      <td>3.518613</td>\n",
       "    </tr>\n",
       "    <tr>\n",
       "      <td>48</td>\n",
       "      <td>5993</td>\n",
       "      <td>2373</td>\n",
       "      <td>1.0</td>\n",
       "      <td>4.590823</td>\n",
       "      <td>{'was_impossible': False}</td>\n",
       "      <td>5</td>\n",
       "      <td>1125</td>\n",
       "      <td>3.590823</td>\n",
       "    </tr>\n",
       "    <tr>\n",
       "      <td>9493</td>\n",
       "      <td>2440</td>\n",
       "      <td>814</td>\n",
       "      <td>1.0</td>\n",
       "      <td>4.676293</td>\n",
       "      <td>{'was_impossible': False}</td>\n",
       "      <td>9</td>\n",
       "      <td>538</td>\n",
       "      <td>3.676293</td>\n",
       "    </tr>\n",
       "  </tbody>\n",
       "</table>\n",
       "</div>"
      ],
      "text/plain": [
       "       user_id  beer_id  rui       est                    details  \\\n",
       "17933     2673      360  1.5  5.000000  {'was_impossible': False}   \n",
       "11563     7897     1052  1.0  4.514743  {'was_impossible': False}   \n",
       "9169      1179     1905  1.0  4.518613  {'was_impossible': False}   \n",
       "48        5993     2373  1.0  4.590823  {'was_impossible': False}   \n",
       "9493      2440      814  1.0  4.676293  {'was_impossible': False}   \n",
       "\n",
       "       number_ratings_user  number_ratings_beer       err  \n",
       "17933                   14                 1085  3.500000  \n",
       "11563                   31                   52  3.514743  \n",
       "9169                     1                 1913  3.518613  \n",
       "48                       5                 1125  3.590823  \n",
       "9493                     9                  538  3.676293  "
      ]
     },
     "execution_count": 65,
     "metadata": {},
     "output_type": "execute_result"
    }
   ],
   "source": [
    "worst_predictions.head()"
   ]
  },
  {
   "cell_type": "markdown",
   "metadata": {},
   "source": [
    "### Normal Prediction Evaluation"
   ]
  },
  {
   "cell_type": "code",
   "execution_count": 66,
   "metadata": {},
   "outputs": [
    {
     "name": "stdout",
     "output_type": "stream",
     "text": [
      "Evaluating RMSE of algorithm NormalPredictor.\n",
      "\n",
      "------------\n",
      "Fold 1\n",
      "RMSE: 0.9204\n",
      "------------\n",
      "Fold 2\n",
      "RMSE: 0.9194\n",
      "------------\n",
      "Fold 3\n",
      "RMSE: 0.9170\n",
      "------------\n",
      "Fold 4\n",
      "RMSE: 0.9169\n",
      "------------\n",
      "Fold 5\n",
      "RMSE: 0.9222\n",
      "------------\n",
      "------------\n",
      "Mean RMSE: 0.9192\n",
      "------------\n",
      "------------\n"
     ]
    },
    {
     "data": {
      "text/plain": [
       "CaseInsensitiveDefaultDict(list,\n",
       "                           {'rmse': [0.9204309683158504,\n",
       "                             0.9193892973751175,\n",
       "                             0.9170121451020743,\n",
       "                             0.9169477519926404,\n",
       "                             0.9221719487378827]})"
      ]
     },
     "execution_count": 66,
     "metadata": {},
     "output_type": "execute_result"
    }
   ],
   "source": [
    "Normal = NormalPredictor()\n",
    "\n",
    "# Compute the RMSE of the knn algorithm.\n",
    "evaluate(Normal, data, measures=['RMSE'])"
   ]
  },
  {
   "cell_type": "code",
   "execution_count": 67,
   "metadata": {},
   "outputs": [
    {
     "name": "stdout",
     "output_type": "stream",
     "text": [
      "Evaluating MAE of algorithm NormalPredictor.\n",
      "\n",
      "------------\n",
      "Fold 1\n",
      "MAE:  0.7254\n",
      "------------\n",
      "Fold 2\n",
      "MAE:  0.7258\n",
      "------------\n",
      "Fold 3\n",
      "MAE:  0.7301\n",
      "------------\n",
      "Fold 4\n",
      "MAE:  0.7272\n",
      "------------\n",
      "Fold 5\n",
      "MAE:  0.7226\n",
      "------------\n",
      "------------\n",
      "Mean MAE : 0.7262\n",
      "------------\n",
      "------------\n"
     ]
    },
    {
     "data": {
      "text/plain": [
       "CaseInsensitiveDefaultDict(list,\n",
       "                           {'mae': [0.7254009768391977,\n",
       "                             0.7258269727945603,\n",
       "                             0.730107735245176,\n",
       "                             0.7272377200974167,\n",
       "                             0.7226088402952252]})"
      ]
     },
     "execution_count": 67,
     "metadata": {},
     "output_type": "execute_result"
    }
   ],
   "source": [
    "Normal = NormalPredictor()\n",
    "\n",
    "# Compute the RMSE of the knn algorithm.\n",
    "evaluate(Normal, data, measures=['MAE'])"
   ]
  },
  {
   "cell_type": "markdown",
   "metadata": {},
   "source": [
    "## Baseline Model"
   ]
  },
  {
   "cell_type": "code",
   "execution_count": 68,
   "metadata": {},
   "outputs": [
    {
     "name": "stdout",
     "output_type": "stream",
     "text": [
      "Using ALS\n",
      "Estimating biases using als...\n",
      "Estimating biases using als...\n",
      "Estimating biases using als...\n"
     ]
    },
    {
     "data": {
      "text/plain": [
       "{'test_rmse': array([0.55907077, 0.55625219, 0.5594949 ]),\n",
       " 'fit_time': (0.17580699920654297, 0.20587801933288574, 0.296816349029541),\n",
       " 'test_time': (0.3072171211242676, 0.1973719596862793, 0.19332575798034668)}"
      ]
     },
     "execution_count": 68,
     "metadata": {},
     "output_type": "execute_result"
    }
   ],
   "source": [
    "# Estimating Baseline Model using Alternating Least Squares\n",
    "print('Using ALS')\n",
    "bsl_options = {'method': 'als'}\n",
    "algo = BaselineOnly(bsl_options=bsl_options)\n",
    "cross_validate(algo, data, measures=['RMSE'], cv=3, verbose=False)"
   ]
  },
  {
   "cell_type": "code",
   "execution_count": 69,
   "metadata": {},
   "outputs": [
    {
     "name": "stdout",
     "output_type": "stream",
     "text": [
      "Estimating biases using als...\n",
      "RMSE: 0.5565\n"
     ]
    },
    {
     "data": {
      "text/plain": [
       "0.5565432940757297"
      ]
     },
     "execution_count": 69,
     "metadata": {},
     "output_type": "execute_result"
    }
   ],
   "source": [
    "trainset, testset = train_test_split(data, test_size=0.25)\n",
    "algo = BaselineOnly(bsl_options=bsl_options)\n",
    "predictions = algo.fit(trainset).test(testset)\n",
    "accuracy.rmse(predictions)"
   ]
  },
  {
   "cell_type": "code",
   "execution_count": 70,
   "metadata": {},
   "outputs": [],
   "source": [
    "df = pd.DataFrame(predictions, columns=['uid', 'iid', 'rui', 'est', 'details'])\n",
    "df['Iu'] = df.uid.apply(get_Iu)\n",
    "df['Ui'] = df.iid.apply(get_Ui)\n",
    "df['err'] = abs(df.est - df.rui)\n",
    "df.rename(columns={'uid': 'user_id'}, inplace=True)\n",
    "df.rename(columns={'iid': 'beer_id'}, inplace=True)\n",
    "df.rename(columns={'Ui': 'number_ratings_beer'}, inplace=True)\n",
    "df.rename(columns={'Iu': 'number_ratings_user'}, inplace=True)"
   ]
  },
  {
   "cell_type": "code",
   "execution_count": 71,
   "metadata": {},
   "outputs": [
    {
     "data": {
      "text/html": [
       "<div>\n",
       "<style scoped>\n",
       "    .dataframe tbody tr th:only-of-type {\n",
       "        vertical-align: middle;\n",
       "    }\n",
       "\n",
       "    .dataframe tbody tr th {\n",
       "        vertical-align: top;\n",
       "    }\n",
       "\n",
       "    .dataframe thead th {\n",
       "        text-align: right;\n",
       "    }\n",
       "</style>\n",
       "<table border=\"1\" class=\"dataframe\">\n",
       "  <thead>\n",
       "    <tr style=\"text-align: right;\">\n",
       "      <th></th>\n",
       "      <th>user_id</th>\n",
       "      <th>beer_id</th>\n",
       "      <th>rui</th>\n",
       "      <th>est</th>\n",
       "      <th>details</th>\n",
       "      <th>number_ratings_user</th>\n",
       "      <th>number_ratings_beer</th>\n",
       "      <th>err</th>\n",
       "    </tr>\n",
       "  </thead>\n",
       "  <tbody>\n",
       "    <tr>\n",
       "      <td>0</td>\n",
       "      <td>4287</td>\n",
       "      <td>46</td>\n",
       "      <td>2.0</td>\n",
       "      <td>4.017294</td>\n",
       "      <td>{'was_impossible': False}</td>\n",
       "      <td>37</td>\n",
       "      <td>261</td>\n",
       "      <td>2.017294</td>\n",
       "    </tr>\n",
       "    <tr>\n",
       "      <td>1</td>\n",
       "      <td>2791</td>\n",
       "      <td>2418</td>\n",
       "      <td>4.0</td>\n",
       "      <td>3.853563</td>\n",
       "      <td>{'was_impossible': False}</td>\n",
       "      <td>50</td>\n",
       "      <td>16</td>\n",
       "      <td>0.146437</td>\n",
       "    </tr>\n",
       "    <tr>\n",
       "      <td>2</td>\n",
       "      <td>419</td>\n",
       "      <td>400</td>\n",
       "      <td>4.5</td>\n",
       "      <td>4.196333</td>\n",
       "      <td>{'was_impossible': False}</td>\n",
       "      <td>16</td>\n",
       "      <td>1939</td>\n",
       "      <td>0.303667</td>\n",
       "    </tr>\n",
       "    <tr>\n",
       "      <td>3</td>\n",
       "      <td>8240</td>\n",
       "      <td>6</td>\n",
       "      <td>4.5</td>\n",
       "      <td>3.658764</td>\n",
       "      <td>{'was_impossible': False}</td>\n",
       "      <td>4</td>\n",
       "      <td>516</td>\n",
       "      <td>0.841236</td>\n",
       "    </tr>\n",
       "    <tr>\n",
       "      <td>4</td>\n",
       "      <td>1342</td>\n",
       "      <td>2439</td>\n",
       "      <td>4.0</td>\n",
       "      <td>3.832460</td>\n",
       "      <td>{'was_impossible': False}</td>\n",
       "      <td>39</td>\n",
       "      <td>1053</td>\n",
       "      <td>0.167540</td>\n",
       "    </tr>\n",
       "  </tbody>\n",
       "</table>\n",
       "</div>"
      ],
      "text/plain": [
       "   user_id  beer_id  rui       est                    details  \\\n",
       "0     4287       46  2.0  4.017294  {'was_impossible': False}   \n",
       "1     2791     2418  4.0  3.853563  {'was_impossible': False}   \n",
       "2      419      400  4.5  4.196333  {'was_impossible': False}   \n",
       "3     8240        6  4.5  3.658764  {'was_impossible': False}   \n",
       "4     1342     2439  4.0  3.832460  {'was_impossible': False}   \n",
       "\n",
       "   number_ratings_user  number_ratings_beer       err  \n",
       "0                   37                  261  2.017294  \n",
       "1                   50                   16  0.146437  \n",
       "2                   16                 1939  0.303667  \n",
       "3                    4                  516  0.841236  \n",
       "4                   39                 1053  0.167540  "
      ]
     },
     "execution_count": 71,
     "metadata": {},
     "output_type": "execute_result"
    }
   ],
   "source": [
    "df.head()"
   ]
  },
  {
   "cell_type": "code",
   "execution_count": 72,
   "metadata": {},
   "outputs": [],
   "source": [
    "#Get Best and Worst Predictions out of Dataframe of Predictions\n",
    "best_predictions = df.sort_values(by='err')[:10]\n",
    "worst_predictions = df.sort_values(by='err')[-10:]"
   ]
  },
  {
   "cell_type": "code",
   "execution_count": 73,
   "metadata": {},
   "outputs": [
    {
     "data": {
      "text/html": [
       "<div>\n",
       "<style scoped>\n",
       "    .dataframe tbody tr th:only-of-type {\n",
       "        vertical-align: middle;\n",
       "    }\n",
       "\n",
       "    .dataframe tbody tr th {\n",
       "        vertical-align: top;\n",
       "    }\n",
       "\n",
       "    .dataframe thead th {\n",
       "        text-align: right;\n",
       "    }\n",
       "</style>\n",
       "<table border=\"1\" class=\"dataframe\">\n",
       "  <thead>\n",
       "    <tr style=\"text-align: right;\">\n",
       "      <th></th>\n",
       "      <th>user_id</th>\n",
       "      <th>beer_id</th>\n",
       "      <th>rui</th>\n",
       "      <th>est</th>\n",
       "      <th>details</th>\n",
       "      <th>number_ratings_user</th>\n",
       "      <th>number_ratings_beer</th>\n",
       "      <th>err</th>\n",
       "    </tr>\n",
       "  </thead>\n",
       "  <tbody>\n",
       "    <tr>\n",
       "      <td>20310</td>\n",
       "      <td>539</td>\n",
       "      <td>646</td>\n",
       "      <td>3.5</td>\n",
       "      <td>3.500050</td>\n",
       "      <td>{'was_impossible': False}</td>\n",
       "      <td>18</td>\n",
       "      <td>946</td>\n",
       "      <td>0.000050</td>\n",
       "    </tr>\n",
       "    <tr>\n",
       "      <td>3111</td>\n",
       "      <td>6821</td>\n",
       "      <td>1387</td>\n",
       "      <td>4.0</td>\n",
       "      <td>3.999925</td>\n",
       "      <td>{'was_impossible': False}</td>\n",
       "      <td>6</td>\n",
       "      <td>205</td>\n",
       "      <td>0.000075</td>\n",
       "    </tr>\n",
       "    <tr>\n",
       "      <td>8345</td>\n",
       "      <td>6708</td>\n",
       "      <td>1327</td>\n",
       "      <td>4.0</td>\n",
       "      <td>4.000075</td>\n",
       "      <td>{'was_impossible': False}</td>\n",
       "      <td>57</td>\n",
       "      <td>769</td>\n",
       "      <td>0.000075</td>\n",
       "    </tr>\n",
       "    <tr>\n",
       "      <td>10189</td>\n",
       "      <td>7752</td>\n",
       "      <td>1444</td>\n",
       "      <td>4.0</td>\n",
       "      <td>4.000095</td>\n",
       "      <td>{'was_impossible': False}</td>\n",
       "      <td>7</td>\n",
       "      <td>1068</td>\n",
       "      <td>0.000095</td>\n",
       "    </tr>\n",
       "    <tr>\n",
       "      <td>2527</td>\n",
       "      <td>4816</td>\n",
       "      <td>113</td>\n",
       "      <td>4.0</td>\n",
       "      <td>3.999895</td>\n",
       "      <td>{'was_impossible': False}</td>\n",
       "      <td>64</td>\n",
       "      <td>28</td>\n",
       "      <td>0.000105</td>\n",
       "    </tr>\n",
       "  </tbody>\n",
       "</table>\n",
       "</div>"
      ],
      "text/plain": [
       "       user_id  beer_id  rui       est                    details  \\\n",
       "20310      539      646  3.5  3.500050  {'was_impossible': False}   \n",
       "3111      6821     1387  4.0  3.999925  {'was_impossible': False}   \n",
       "8345      6708     1327  4.0  4.000075  {'was_impossible': False}   \n",
       "10189     7752     1444  4.0  4.000095  {'was_impossible': False}   \n",
       "2527      4816      113  4.0  3.999895  {'was_impossible': False}   \n",
       "\n",
       "       number_ratings_user  number_ratings_beer       err  \n",
       "20310                   18                  946  0.000050  \n",
       "3111                     6                  205  0.000075  \n",
       "8345                    57                  769  0.000075  \n",
       "10189                    7                 1068  0.000095  \n",
       "2527                    64                   28  0.000105  "
      ]
     },
     "execution_count": 73,
     "metadata": {},
     "output_type": "execute_result"
    }
   ],
   "source": [
    "best_predictions.head()"
   ]
  },
  {
   "cell_type": "code",
   "execution_count": 74,
   "metadata": {},
   "outputs": [
    {
     "data": {
      "text/html": [
       "<div>\n",
       "<style scoped>\n",
       "    .dataframe tbody tr th:only-of-type {\n",
       "        vertical-align: middle;\n",
       "    }\n",
       "\n",
       "    .dataframe tbody tr th {\n",
       "        vertical-align: top;\n",
       "    }\n",
       "\n",
       "    .dataframe thead th {\n",
       "        text-align: right;\n",
       "    }\n",
       "</style>\n",
       "<table border=\"1\" class=\"dataframe\">\n",
       "  <thead>\n",
       "    <tr style=\"text-align: right;\">\n",
       "      <th></th>\n",
       "      <th>user_id</th>\n",
       "      <th>beer_id</th>\n",
       "      <th>rui</th>\n",
       "      <th>est</th>\n",
       "      <th>details</th>\n",
       "      <th>number_ratings_user</th>\n",
       "      <th>number_ratings_beer</th>\n",
       "      <th>err</th>\n",
       "    </tr>\n",
       "  </thead>\n",
       "  <tbody>\n",
       "    <tr>\n",
       "      <td>21393</td>\n",
       "      <td>9525</td>\n",
       "      <td>45</td>\n",
       "      <td>1.0</td>\n",
       "      <td>3.655336</td>\n",
       "      <td>{'was_impossible': False}</td>\n",
       "      <td>16</td>\n",
       "      <td>258</td>\n",
       "      <td>2.655336</td>\n",
       "    </tr>\n",
       "    <tr>\n",
       "      <td>2430</td>\n",
       "      <td>440</td>\n",
       "      <td>1618</td>\n",
       "      <td>1.0</td>\n",
       "      <td>3.657008</td>\n",
       "      <td>{'was_impossible': False}</td>\n",
       "      <td>26</td>\n",
       "      <td>526</td>\n",
       "      <td>2.657008</td>\n",
       "    </tr>\n",
       "    <tr>\n",
       "      <td>4557</td>\n",
       "      <td>3008</td>\n",
       "      <td>1281</td>\n",
       "      <td>1.0</td>\n",
       "      <td>3.732898</td>\n",
       "      <td>{'was_impossible': False}</td>\n",
       "      <td>1</td>\n",
       "      <td>1387</td>\n",
       "      <td>2.732898</td>\n",
       "    </tr>\n",
       "    <tr>\n",
       "      <td>188</td>\n",
       "      <td>10454</td>\n",
       "      <td>2578</td>\n",
       "      <td>1.0</td>\n",
       "      <td>3.746118</td>\n",
       "      <td>{'was_impossible': False}</td>\n",
       "      <td>6</td>\n",
       "      <td>1186</td>\n",
       "      <td>2.746118</td>\n",
       "    </tr>\n",
       "    <tr>\n",
       "      <td>930</td>\n",
       "      <td>8543</td>\n",
       "      <td>346</td>\n",
       "      <td>1.0</td>\n",
       "      <td>3.800689</td>\n",
       "      <td>{'was_impossible': False}</td>\n",
       "      <td>4</td>\n",
       "      <td>175</td>\n",
       "      <td>2.800689</td>\n",
       "    </tr>\n",
       "  </tbody>\n",
       "</table>\n",
       "</div>"
      ],
      "text/plain": [
       "       user_id  beer_id  rui       est                    details  \\\n",
       "21393     9525       45  1.0  3.655336  {'was_impossible': False}   \n",
       "2430       440     1618  1.0  3.657008  {'was_impossible': False}   \n",
       "4557      3008     1281  1.0  3.732898  {'was_impossible': False}   \n",
       "188      10454     2578  1.0  3.746118  {'was_impossible': False}   \n",
       "930       8543      346  1.0  3.800689  {'was_impossible': False}   \n",
       "\n",
       "       number_ratings_user  number_ratings_beer       err  \n",
       "21393                   16                  258  2.655336  \n",
       "2430                    26                  526  2.657008  \n",
       "4557                     1                 1387  2.732898  \n",
       "188                      6                 1186  2.746118  \n",
       "930                      4                  175  2.800689  "
      ]
     },
     "execution_count": 74,
     "metadata": {},
     "output_type": "execute_result"
    }
   ],
   "source": [
    "worst_predictions.head()"
   ]
  },
  {
   "cell_type": "markdown",
   "metadata": {},
   "source": [
    "### Baseline Model Evaluation"
   ]
  },
  {
   "cell_type": "code",
   "execution_count": 75,
   "metadata": {},
   "outputs": [
    {
     "name": "stdout",
     "output_type": "stream",
     "text": [
      "Evaluating RMSE of algorithm BaselineOnly.\n",
      "\n",
      "------------\n",
      "Fold 1\n",
      "Estimating biases using als...\n",
      "RMSE: 0.5607\n",
      "------------\n",
      "Fold 2\n",
      "Estimating biases using als...\n",
      "RMSE: 0.5583\n",
      "------------\n",
      "Fold 3\n",
      "Estimating biases using als...\n",
      "RMSE: 0.5540\n",
      "------------\n",
      "Fold 4\n",
      "Estimating biases using als...\n",
      "RMSE: 0.5541\n",
      "------------\n",
      "Fold 5\n",
      "Estimating biases using als...\n",
      "RMSE: 0.5520\n",
      "------------\n",
      "------------\n",
      "Mean RMSE: 0.5558\n",
      "------------\n",
      "------------\n"
     ]
    },
    {
     "data": {
      "text/plain": [
       "CaseInsensitiveDefaultDict(list,\n",
       "                           {'rmse': [0.560742567537501,\n",
       "                             0.5582704790847489,\n",
       "                             0.5539616231099461,\n",
       "                             0.5540679305581494,\n",
       "                             0.5519636611344069]})"
      ]
     },
     "execution_count": 75,
     "metadata": {},
     "output_type": "execute_result"
    }
   ],
   "source": [
    "Baseline = BaselineOnly()\n",
    "\n",
    "# Compute the RMSE of the knn algorithm.\n",
    "evaluate(Baseline, data, measures=['RMSE'])"
   ]
  },
  {
   "cell_type": "code",
   "execution_count": 76,
   "metadata": {},
   "outputs": [
    {
     "name": "stdout",
     "output_type": "stream",
     "text": [
      "Evaluating MAE of algorithm BaselineOnly.\n",
      "\n",
      "------------\n",
      "Fold 1\n",
      "Estimating biases using als...\n",
      "MAE:  0.4172\n",
      "------------\n",
      "Fold 2\n",
      "Estimating biases using als...\n",
      "MAE:  0.4164\n",
      "------------\n",
      "Fold 3\n",
      "Estimating biases using als...\n",
      "MAE:  0.4141\n",
      "------------\n",
      "Fold 4\n",
      "Estimating biases using als...\n",
      "MAE:  0.4139\n",
      "------------\n",
      "Fold 5\n",
      "Estimating biases using als...\n",
      "MAE:  0.4134\n",
      "------------\n",
      "------------\n",
      "Mean MAE : 0.4150\n",
      "------------\n",
      "------------\n"
     ]
    },
    {
     "data": {
      "text/plain": [
       "CaseInsensitiveDefaultDict(list,\n",
       "                           {'mae': [0.4172296695208557,\n",
       "                             0.41644067060714424,\n",
       "                             0.41408621105222443,\n",
       "                             0.4139135214586265,\n",
       "                             0.4133690761923398]})"
      ]
     },
     "execution_count": 76,
     "metadata": {},
     "output_type": "execute_result"
    }
   ],
   "source": [
    "Baseline = BaselineOnly()\n",
    "\n",
    "# Compute the RMSE of the knn algorithm.\n",
    "evaluate(Baseline, data, measures=['MAE'])"
   ]
  },
  {
   "cell_type": "markdown",
   "metadata": {},
   "source": [
    "# KNN Baseline w. Grid Search"
   ]
  },
  {
   "cell_type": "code",
   "execution_count": 41,
   "metadata": {},
   "outputs": [
    {
     "name": "stdout",
     "output_type": "stream",
     "text": [
      "Estimating biases using als...\n",
      "Computing the msd similarity matrix...\n",
      "Done computing similarity matrix.\n"
     ]
    },
    {
     "ename": "KeyboardInterrupt",
     "evalue": "",
     "output_type": "error",
     "traceback": [
      "\u001b[0;31m---------------------------------------------------------------------------\u001b[0m",
      "\u001b[0;31mKeyboardInterrupt\u001b[0m                         Traceback (most recent call last)",
      "\u001b[0;32m<ipython-input-41-4a61fd03aad0>\u001b[0m in \u001b[0;36m<module>\u001b[0;34m\u001b[0m\n\u001b[1;32m     14\u001b[0m \u001b[0mgs\u001b[0m \u001b[0;34m=\u001b[0m \u001b[0mGridSearchCV\u001b[0m\u001b[0;34m(\u001b[0m\u001b[0mKNNBaseline\u001b[0m\u001b[0;34m,\u001b[0m \u001b[0mparam_grid\u001b[0m\u001b[0;34m,\u001b[0m \u001b[0mmeasures\u001b[0m\u001b[0;34m=\u001b[0m\u001b[0;34m[\u001b[0m\u001b[0;34m'rmse'\u001b[0m\u001b[0;34m,\u001b[0m \u001b[0;34m'mae'\u001b[0m\u001b[0;34m]\u001b[0m\u001b[0;34m,\u001b[0m \u001b[0mcv\u001b[0m\u001b[0;34m=\u001b[0m\u001b[0;36m3\u001b[0m\u001b[0;34m)\u001b[0m\u001b[0;34m\u001b[0m\u001b[0;34m\u001b[0m\u001b[0m\n\u001b[1;32m     15\u001b[0m \u001b[0;34m\u001b[0m\u001b[0m\n\u001b[0;32m---> 16\u001b[0;31m \u001b[0mgs\u001b[0m\u001b[0;34m.\u001b[0m\u001b[0mfit\u001b[0m\u001b[0;34m(\u001b[0m\u001b[0mdata\u001b[0m\u001b[0;34m)\u001b[0m\u001b[0;34m\u001b[0m\u001b[0;34m\u001b[0m\u001b[0m\n\u001b[0m\u001b[1;32m     17\u001b[0m \u001b[0;34m\u001b[0m\u001b[0m\n\u001b[1;32m     18\u001b[0m \u001b[0;31m# best RMSE score\u001b[0m\u001b[0;34m\u001b[0m\u001b[0;34m\u001b[0m\u001b[0;34m\u001b[0m\u001b[0m\n",
      "\u001b[0;32m/opt/anaconda3/envs/learn-env/lib/python3.6/site-packages/surprise/model_selection/search.py\u001b[0m in \u001b[0;36mfit\u001b[0;34m(self, data)\u001b[0m\n\u001b[1;32m     88\u001b[0m         out = Parallel(n_jobs=self.n_jobs,\n\u001b[1;32m     89\u001b[0m                        \u001b[0mpre_dispatch\u001b[0m\u001b[0;34m=\u001b[0m\u001b[0mself\u001b[0m\u001b[0;34m.\u001b[0m\u001b[0mpre_dispatch\u001b[0m\u001b[0;34m,\u001b[0m\u001b[0;34m\u001b[0m\u001b[0;34m\u001b[0m\u001b[0m\n\u001b[0;32m---> 90\u001b[0;31m                        verbose=self.joblib_verbose)(delayed_list)\n\u001b[0m\u001b[1;32m     91\u001b[0m \u001b[0;34m\u001b[0m\u001b[0m\n\u001b[1;32m     92\u001b[0m         (test_measures_dicts,\n",
      "\u001b[0;32m/opt/anaconda3/envs/learn-env/lib/python3.6/site-packages/joblib/parallel.py\u001b[0m in \u001b[0;36m__call__\u001b[0;34m(self, iterable)\u001b[0m\n\u001b[1;32m    919\u001b[0m             \u001b[0;31m# remaining jobs.\u001b[0m\u001b[0;34m\u001b[0m\u001b[0;34m\u001b[0m\u001b[0;34m\u001b[0m\u001b[0m\n\u001b[1;32m    920\u001b[0m             \u001b[0mself\u001b[0m\u001b[0;34m.\u001b[0m\u001b[0m_iterating\u001b[0m \u001b[0;34m=\u001b[0m \u001b[0;32mFalse\u001b[0m\u001b[0;34m\u001b[0m\u001b[0;34m\u001b[0m\u001b[0m\n\u001b[0;32m--> 921\u001b[0;31m             \u001b[0;32mif\u001b[0m \u001b[0mself\u001b[0m\u001b[0;34m.\u001b[0m\u001b[0mdispatch_one_batch\u001b[0m\u001b[0;34m(\u001b[0m\u001b[0miterator\u001b[0m\u001b[0;34m)\u001b[0m\u001b[0;34m:\u001b[0m\u001b[0;34m\u001b[0m\u001b[0;34m\u001b[0m\u001b[0m\n\u001b[0m\u001b[1;32m    922\u001b[0m                 \u001b[0mself\u001b[0m\u001b[0;34m.\u001b[0m\u001b[0m_iterating\u001b[0m \u001b[0;34m=\u001b[0m \u001b[0mself\u001b[0m\u001b[0;34m.\u001b[0m\u001b[0m_original_iterator\u001b[0m \u001b[0;32mis\u001b[0m \u001b[0;32mnot\u001b[0m \u001b[0;32mNone\u001b[0m\u001b[0;34m\u001b[0m\u001b[0;34m\u001b[0m\u001b[0m\n\u001b[1;32m    923\u001b[0m \u001b[0;34m\u001b[0m\u001b[0m\n",
      "\u001b[0;32m/opt/anaconda3/envs/learn-env/lib/python3.6/site-packages/joblib/parallel.py\u001b[0m in \u001b[0;36mdispatch_one_batch\u001b[0;34m(self, iterator)\u001b[0m\n\u001b[1;32m    757\u001b[0m                 \u001b[0;32mreturn\u001b[0m \u001b[0;32mFalse\u001b[0m\u001b[0;34m\u001b[0m\u001b[0;34m\u001b[0m\u001b[0m\n\u001b[1;32m    758\u001b[0m             \u001b[0;32melse\u001b[0m\u001b[0;34m:\u001b[0m\u001b[0;34m\u001b[0m\u001b[0;34m\u001b[0m\u001b[0m\n\u001b[0;32m--> 759\u001b[0;31m                 \u001b[0mself\u001b[0m\u001b[0;34m.\u001b[0m\u001b[0m_dispatch\u001b[0m\u001b[0;34m(\u001b[0m\u001b[0mtasks\u001b[0m\u001b[0;34m)\u001b[0m\u001b[0;34m\u001b[0m\u001b[0;34m\u001b[0m\u001b[0m\n\u001b[0m\u001b[1;32m    760\u001b[0m                 \u001b[0;32mreturn\u001b[0m \u001b[0;32mTrue\u001b[0m\u001b[0;34m\u001b[0m\u001b[0;34m\u001b[0m\u001b[0m\n\u001b[1;32m    761\u001b[0m \u001b[0;34m\u001b[0m\u001b[0m\n",
      "\u001b[0;32m/opt/anaconda3/envs/learn-env/lib/python3.6/site-packages/joblib/parallel.py\u001b[0m in \u001b[0;36m_dispatch\u001b[0;34m(self, batch)\u001b[0m\n\u001b[1;32m    714\u001b[0m         \u001b[0;32mwith\u001b[0m \u001b[0mself\u001b[0m\u001b[0;34m.\u001b[0m\u001b[0m_lock\u001b[0m\u001b[0;34m:\u001b[0m\u001b[0;34m\u001b[0m\u001b[0;34m\u001b[0m\u001b[0m\n\u001b[1;32m    715\u001b[0m             \u001b[0mjob_idx\u001b[0m \u001b[0;34m=\u001b[0m \u001b[0mlen\u001b[0m\u001b[0;34m(\u001b[0m\u001b[0mself\u001b[0m\u001b[0;34m.\u001b[0m\u001b[0m_jobs\u001b[0m\u001b[0;34m)\u001b[0m\u001b[0;34m\u001b[0m\u001b[0;34m\u001b[0m\u001b[0m\n\u001b[0;32m--> 716\u001b[0;31m             \u001b[0mjob\u001b[0m \u001b[0;34m=\u001b[0m \u001b[0mself\u001b[0m\u001b[0;34m.\u001b[0m\u001b[0m_backend\u001b[0m\u001b[0;34m.\u001b[0m\u001b[0mapply_async\u001b[0m\u001b[0;34m(\u001b[0m\u001b[0mbatch\u001b[0m\u001b[0;34m,\u001b[0m \u001b[0mcallback\u001b[0m\u001b[0;34m=\u001b[0m\u001b[0mcb\u001b[0m\u001b[0;34m)\u001b[0m\u001b[0;34m\u001b[0m\u001b[0;34m\u001b[0m\u001b[0m\n\u001b[0m\u001b[1;32m    717\u001b[0m             \u001b[0;31m# A job can complete so quickly than its callback is\u001b[0m\u001b[0;34m\u001b[0m\u001b[0;34m\u001b[0m\u001b[0;34m\u001b[0m\u001b[0m\n\u001b[1;32m    718\u001b[0m             \u001b[0;31m# called before we get here, causing self._jobs to\u001b[0m\u001b[0;34m\u001b[0m\u001b[0;34m\u001b[0m\u001b[0;34m\u001b[0m\u001b[0m\n",
      "\u001b[0;32m/opt/anaconda3/envs/learn-env/lib/python3.6/site-packages/joblib/_parallel_backends.py\u001b[0m in \u001b[0;36mapply_async\u001b[0;34m(self, func, callback)\u001b[0m\n\u001b[1;32m    180\u001b[0m     \u001b[0;32mdef\u001b[0m \u001b[0mapply_async\u001b[0m\u001b[0;34m(\u001b[0m\u001b[0mself\u001b[0m\u001b[0;34m,\u001b[0m \u001b[0mfunc\u001b[0m\u001b[0;34m,\u001b[0m \u001b[0mcallback\u001b[0m\u001b[0;34m=\u001b[0m\u001b[0;32mNone\u001b[0m\u001b[0;34m)\u001b[0m\u001b[0;34m:\u001b[0m\u001b[0;34m\u001b[0m\u001b[0;34m\u001b[0m\u001b[0m\n\u001b[1;32m    181\u001b[0m         \u001b[0;34m\"\"\"Schedule a func to be run\"\"\"\u001b[0m\u001b[0;34m\u001b[0m\u001b[0;34m\u001b[0m\u001b[0m\n\u001b[0;32m--> 182\u001b[0;31m         \u001b[0mresult\u001b[0m \u001b[0;34m=\u001b[0m \u001b[0mImmediateResult\u001b[0m\u001b[0;34m(\u001b[0m\u001b[0mfunc\u001b[0m\u001b[0;34m)\u001b[0m\u001b[0;34m\u001b[0m\u001b[0;34m\u001b[0m\u001b[0m\n\u001b[0m\u001b[1;32m    183\u001b[0m         \u001b[0;32mif\u001b[0m \u001b[0mcallback\u001b[0m\u001b[0;34m:\u001b[0m\u001b[0;34m\u001b[0m\u001b[0;34m\u001b[0m\u001b[0m\n\u001b[1;32m    184\u001b[0m             \u001b[0mcallback\u001b[0m\u001b[0;34m(\u001b[0m\u001b[0mresult\u001b[0m\u001b[0;34m)\u001b[0m\u001b[0;34m\u001b[0m\u001b[0;34m\u001b[0m\u001b[0m\n",
      "\u001b[0;32m/opt/anaconda3/envs/learn-env/lib/python3.6/site-packages/joblib/_parallel_backends.py\u001b[0m in \u001b[0;36m__init__\u001b[0;34m(self, batch)\u001b[0m\n\u001b[1;32m    547\u001b[0m         \u001b[0;31m# Don't delay the application, to avoid keeping the input\u001b[0m\u001b[0;34m\u001b[0m\u001b[0;34m\u001b[0m\u001b[0;34m\u001b[0m\u001b[0m\n\u001b[1;32m    548\u001b[0m         \u001b[0;31m# arguments in memory\u001b[0m\u001b[0;34m\u001b[0m\u001b[0;34m\u001b[0m\u001b[0;34m\u001b[0m\u001b[0m\n\u001b[0;32m--> 549\u001b[0;31m         \u001b[0mself\u001b[0m\u001b[0;34m.\u001b[0m\u001b[0mresults\u001b[0m \u001b[0;34m=\u001b[0m \u001b[0mbatch\u001b[0m\u001b[0;34m(\u001b[0m\u001b[0;34m)\u001b[0m\u001b[0;34m\u001b[0m\u001b[0;34m\u001b[0m\u001b[0m\n\u001b[0m\u001b[1;32m    550\u001b[0m \u001b[0;34m\u001b[0m\u001b[0m\n\u001b[1;32m    551\u001b[0m     \u001b[0;32mdef\u001b[0m \u001b[0mget\u001b[0m\u001b[0;34m(\u001b[0m\u001b[0mself\u001b[0m\u001b[0;34m)\u001b[0m\u001b[0;34m:\u001b[0m\u001b[0;34m\u001b[0m\u001b[0;34m\u001b[0m\u001b[0m\n",
      "\u001b[0;32m/opt/anaconda3/envs/learn-env/lib/python3.6/site-packages/joblib/parallel.py\u001b[0m in \u001b[0;36m__call__\u001b[0;34m(self)\u001b[0m\n\u001b[1;32m    223\u001b[0m         \u001b[0;32mwith\u001b[0m \u001b[0mparallel_backend\u001b[0m\u001b[0;34m(\u001b[0m\u001b[0mself\u001b[0m\u001b[0;34m.\u001b[0m\u001b[0m_backend\u001b[0m\u001b[0;34m,\u001b[0m \u001b[0mn_jobs\u001b[0m\u001b[0;34m=\u001b[0m\u001b[0mself\u001b[0m\u001b[0;34m.\u001b[0m\u001b[0m_n_jobs\u001b[0m\u001b[0;34m)\u001b[0m\u001b[0;34m:\u001b[0m\u001b[0;34m\u001b[0m\u001b[0;34m\u001b[0m\u001b[0m\n\u001b[1;32m    224\u001b[0m             return [func(*args, **kwargs)\n\u001b[0;32m--> 225\u001b[0;31m                     for func, args, kwargs in self.items]\n\u001b[0m\u001b[1;32m    226\u001b[0m \u001b[0;34m\u001b[0m\u001b[0m\n\u001b[1;32m    227\u001b[0m     \u001b[0;32mdef\u001b[0m \u001b[0m__len__\u001b[0m\u001b[0;34m(\u001b[0m\u001b[0mself\u001b[0m\u001b[0;34m)\u001b[0m\u001b[0;34m:\u001b[0m\u001b[0;34m\u001b[0m\u001b[0;34m\u001b[0m\u001b[0m\n",
      "\u001b[0;32m/opt/anaconda3/envs/learn-env/lib/python3.6/site-packages/joblib/parallel.py\u001b[0m in \u001b[0;36m<listcomp>\u001b[0;34m(.0)\u001b[0m\n\u001b[1;32m    223\u001b[0m         \u001b[0;32mwith\u001b[0m \u001b[0mparallel_backend\u001b[0m\u001b[0;34m(\u001b[0m\u001b[0mself\u001b[0m\u001b[0;34m.\u001b[0m\u001b[0m_backend\u001b[0m\u001b[0;34m,\u001b[0m \u001b[0mn_jobs\u001b[0m\u001b[0;34m=\u001b[0m\u001b[0mself\u001b[0m\u001b[0;34m.\u001b[0m\u001b[0m_n_jobs\u001b[0m\u001b[0;34m)\u001b[0m\u001b[0;34m:\u001b[0m\u001b[0;34m\u001b[0m\u001b[0;34m\u001b[0m\u001b[0m\n\u001b[1;32m    224\u001b[0m             return [func(*args, **kwargs)\n\u001b[0;32m--> 225\u001b[0;31m                     for func, args, kwargs in self.items]\n\u001b[0m\u001b[1;32m    226\u001b[0m \u001b[0;34m\u001b[0m\u001b[0m\n\u001b[1;32m    227\u001b[0m     \u001b[0;32mdef\u001b[0m \u001b[0m__len__\u001b[0m\u001b[0;34m(\u001b[0m\u001b[0mself\u001b[0m\u001b[0;34m)\u001b[0m\u001b[0;34m:\u001b[0m\u001b[0;34m\u001b[0m\u001b[0;34m\u001b[0m\u001b[0m\n",
      "\u001b[0;32m/opt/anaconda3/envs/learn-env/lib/python3.6/site-packages/surprise/model_selection/validation.py\u001b[0m in \u001b[0;36mfit_and_score\u001b[0;34m(algo, trainset, testset, measures, return_train_measures)\u001b[0m\n\u001b[1;32m    165\u001b[0m     \u001b[0mfit_time\u001b[0m \u001b[0;34m=\u001b[0m \u001b[0mtime\u001b[0m\u001b[0;34m.\u001b[0m\u001b[0mtime\u001b[0m\u001b[0;34m(\u001b[0m\u001b[0;34m)\u001b[0m \u001b[0;34m-\u001b[0m \u001b[0mstart_fit\u001b[0m\u001b[0;34m\u001b[0m\u001b[0;34m\u001b[0m\u001b[0m\n\u001b[1;32m    166\u001b[0m     \u001b[0mstart_test\u001b[0m \u001b[0;34m=\u001b[0m \u001b[0mtime\u001b[0m\u001b[0;34m.\u001b[0m\u001b[0mtime\u001b[0m\u001b[0;34m(\u001b[0m\u001b[0;34m)\u001b[0m\u001b[0;34m\u001b[0m\u001b[0;34m\u001b[0m\u001b[0m\n\u001b[0;32m--> 167\u001b[0;31m     \u001b[0mpredictions\u001b[0m \u001b[0;34m=\u001b[0m \u001b[0malgo\u001b[0m\u001b[0;34m.\u001b[0m\u001b[0mtest\u001b[0m\u001b[0;34m(\u001b[0m\u001b[0mtestset\u001b[0m\u001b[0;34m)\u001b[0m\u001b[0;34m\u001b[0m\u001b[0;34m\u001b[0m\u001b[0m\n\u001b[0m\u001b[1;32m    168\u001b[0m     \u001b[0mtest_time\u001b[0m \u001b[0;34m=\u001b[0m \u001b[0mtime\u001b[0m\u001b[0;34m.\u001b[0m\u001b[0mtime\u001b[0m\u001b[0;34m(\u001b[0m\u001b[0;34m)\u001b[0m \u001b[0;34m-\u001b[0m \u001b[0mstart_test\u001b[0m\u001b[0;34m\u001b[0m\u001b[0;34m\u001b[0m\u001b[0m\n\u001b[1;32m    169\u001b[0m \u001b[0;34m\u001b[0m\u001b[0m\n",
      "\u001b[0;32m/opt/anaconda3/envs/learn-env/lib/python3.6/site-packages/surprise/prediction_algorithms/algo_base.py\u001b[0m in \u001b[0;36mtest\u001b[0;34m(self, testset, verbose)\u001b[0m\n\u001b[1;32m    210\u001b[0m                                     \u001b[0mr_ui_trans\u001b[0m \u001b[0;34m-\u001b[0m \u001b[0mself\u001b[0m\u001b[0;34m.\u001b[0m\u001b[0mtrainset\u001b[0m\u001b[0;34m.\u001b[0m\u001b[0moffset\u001b[0m\u001b[0;34m,\u001b[0m\u001b[0;34m\u001b[0m\u001b[0;34m\u001b[0m\u001b[0m\n\u001b[1;32m    211\u001b[0m                                     verbose=verbose)\n\u001b[0;32m--> 212\u001b[0;31m                        for (uid, iid, r_ui_trans) in testset]\n\u001b[0m\u001b[1;32m    213\u001b[0m         \u001b[0;32mreturn\u001b[0m \u001b[0mpredictions\u001b[0m\u001b[0;34m\u001b[0m\u001b[0;34m\u001b[0m\u001b[0m\n\u001b[1;32m    214\u001b[0m \u001b[0;34m\u001b[0m\u001b[0m\n",
      "\u001b[0;32m/opt/anaconda3/envs/learn-env/lib/python3.6/site-packages/surprise/prediction_algorithms/algo_base.py\u001b[0m in \u001b[0;36m<listcomp>\u001b[0;34m(.0)\u001b[0m\n\u001b[1;32m    210\u001b[0m                                     \u001b[0mr_ui_trans\u001b[0m \u001b[0;34m-\u001b[0m \u001b[0mself\u001b[0m\u001b[0;34m.\u001b[0m\u001b[0mtrainset\u001b[0m\u001b[0;34m.\u001b[0m\u001b[0moffset\u001b[0m\u001b[0;34m,\u001b[0m\u001b[0;34m\u001b[0m\u001b[0;34m\u001b[0m\u001b[0m\n\u001b[1;32m    211\u001b[0m                                     verbose=verbose)\n\u001b[0;32m--> 212\u001b[0;31m                        for (uid, iid, r_ui_trans) in testset]\n\u001b[0m\u001b[1;32m    213\u001b[0m         \u001b[0;32mreturn\u001b[0m \u001b[0mpredictions\u001b[0m\u001b[0;34m\u001b[0m\u001b[0;34m\u001b[0m\u001b[0m\n\u001b[1;32m    214\u001b[0m \u001b[0;34m\u001b[0m\u001b[0m\n",
      "\u001b[0;32m/opt/anaconda3/envs/learn-env/lib/python3.6/site-packages/surprise/prediction_algorithms/algo_base.py\u001b[0m in \u001b[0;36mpredict\u001b[0;34m(self, uid, iid, r_ui, clip, verbose)\u001b[0m\n\u001b[1;32m    144\u001b[0m         \u001b[0mdetails\u001b[0m \u001b[0;34m=\u001b[0m \u001b[0;34m{\u001b[0m\u001b[0;34m}\u001b[0m\u001b[0;34m\u001b[0m\u001b[0;34m\u001b[0m\u001b[0m\n\u001b[1;32m    145\u001b[0m         \u001b[0;32mtry\u001b[0m\u001b[0;34m:\u001b[0m\u001b[0;34m\u001b[0m\u001b[0;34m\u001b[0m\u001b[0m\n\u001b[0;32m--> 146\u001b[0;31m             \u001b[0mest\u001b[0m \u001b[0;34m=\u001b[0m \u001b[0mself\u001b[0m\u001b[0;34m.\u001b[0m\u001b[0mestimate\u001b[0m\u001b[0;34m(\u001b[0m\u001b[0miuid\u001b[0m\u001b[0;34m,\u001b[0m \u001b[0miiid\u001b[0m\u001b[0;34m)\u001b[0m\u001b[0;34m\u001b[0m\u001b[0;34m\u001b[0m\u001b[0m\n\u001b[0m\u001b[1;32m    147\u001b[0m \u001b[0;34m\u001b[0m\u001b[0m\n\u001b[1;32m    148\u001b[0m             \u001b[0;31m# If the details dict was also returned\u001b[0m\u001b[0;34m\u001b[0m\u001b[0;34m\u001b[0m\u001b[0;34m\u001b[0m\u001b[0m\n",
      "\u001b[0;32m/opt/anaconda3/envs/learn-env/lib/python3.6/site-packages/surprise/prediction_algorithms/knns.py\u001b[0m in \u001b[0;36mestimate\u001b[0;34m(self, u, i)\u001b[0m\n\u001b[1;32m    296\u001b[0m             \u001b[0;32mreturn\u001b[0m \u001b[0mest\u001b[0m\u001b[0;34m\u001b[0m\u001b[0;34m\u001b[0m\u001b[0m\n\u001b[1;32m    297\u001b[0m \u001b[0;34m\u001b[0m\u001b[0m\n\u001b[0;32m--> 298\u001b[0;31m         \u001b[0mneighbors\u001b[0m \u001b[0;34m=\u001b[0m \u001b[0;34m[\u001b[0m\u001b[0;34m(\u001b[0m\u001b[0mx2\u001b[0m\u001b[0;34m,\u001b[0m \u001b[0mself\u001b[0m\u001b[0;34m.\u001b[0m\u001b[0msim\u001b[0m\u001b[0;34m[\u001b[0m\u001b[0mx\u001b[0m\u001b[0;34m,\u001b[0m \u001b[0mx2\u001b[0m\u001b[0;34m]\u001b[0m\u001b[0;34m,\u001b[0m \u001b[0mr\u001b[0m\u001b[0;34m)\u001b[0m \u001b[0;32mfor\u001b[0m \u001b[0;34m(\u001b[0m\u001b[0mx2\u001b[0m\u001b[0;34m,\u001b[0m \u001b[0mr\u001b[0m\u001b[0;34m)\u001b[0m \u001b[0;32min\u001b[0m \u001b[0mself\u001b[0m\u001b[0;34m.\u001b[0m\u001b[0myr\u001b[0m\u001b[0;34m[\u001b[0m\u001b[0my\u001b[0m\u001b[0;34m]\u001b[0m\u001b[0;34m]\u001b[0m\u001b[0;34m\u001b[0m\u001b[0;34m\u001b[0m\u001b[0m\n\u001b[0m\u001b[1;32m    299\u001b[0m         \u001b[0mk_neighbors\u001b[0m \u001b[0;34m=\u001b[0m \u001b[0mheapq\u001b[0m\u001b[0;34m.\u001b[0m\u001b[0mnlargest\u001b[0m\u001b[0;34m(\u001b[0m\u001b[0mself\u001b[0m\u001b[0;34m.\u001b[0m\u001b[0mk\u001b[0m\u001b[0;34m,\u001b[0m \u001b[0mneighbors\u001b[0m\u001b[0;34m,\u001b[0m \u001b[0mkey\u001b[0m\u001b[0;34m=\u001b[0m\u001b[0;32mlambda\u001b[0m \u001b[0mt\u001b[0m\u001b[0;34m:\u001b[0m \u001b[0mt\u001b[0m\u001b[0;34m[\u001b[0m\u001b[0;36m1\u001b[0m\u001b[0;34m]\u001b[0m\u001b[0;34m)\u001b[0m\u001b[0;34m\u001b[0m\u001b[0;34m\u001b[0m\u001b[0m\n\u001b[1;32m    300\u001b[0m \u001b[0;34m\u001b[0m\u001b[0m\n",
      "\u001b[0;32m/opt/anaconda3/envs/learn-env/lib/python3.6/site-packages/surprise/prediction_algorithms/knns.py\u001b[0m in \u001b[0;36m<listcomp>\u001b[0;34m(.0)\u001b[0m\n\u001b[1;32m    296\u001b[0m             \u001b[0;32mreturn\u001b[0m \u001b[0mest\u001b[0m\u001b[0;34m\u001b[0m\u001b[0;34m\u001b[0m\u001b[0m\n\u001b[1;32m    297\u001b[0m \u001b[0;34m\u001b[0m\u001b[0m\n\u001b[0;32m--> 298\u001b[0;31m         \u001b[0mneighbors\u001b[0m \u001b[0;34m=\u001b[0m \u001b[0;34m[\u001b[0m\u001b[0;34m(\u001b[0m\u001b[0mx2\u001b[0m\u001b[0;34m,\u001b[0m \u001b[0mself\u001b[0m\u001b[0;34m.\u001b[0m\u001b[0msim\u001b[0m\u001b[0;34m[\u001b[0m\u001b[0mx\u001b[0m\u001b[0;34m,\u001b[0m \u001b[0mx2\u001b[0m\u001b[0;34m]\u001b[0m\u001b[0;34m,\u001b[0m \u001b[0mr\u001b[0m\u001b[0;34m)\u001b[0m \u001b[0;32mfor\u001b[0m \u001b[0;34m(\u001b[0m\u001b[0mx2\u001b[0m\u001b[0;34m,\u001b[0m \u001b[0mr\u001b[0m\u001b[0;34m)\u001b[0m \u001b[0;32min\u001b[0m \u001b[0mself\u001b[0m\u001b[0;34m.\u001b[0m\u001b[0myr\u001b[0m\u001b[0;34m[\u001b[0m\u001b[0my\u001b[0m\u001b[0;34m]\u001b[0m\u001b[0;34m]\u001b[0m\u001b[0;34m\u001b[0m\u001b[0;34m\u001b[0m\u001b[0m\n\u001b[0m\u001b[1;32m    299\u001b[0m         \u001b[0mk_neighbors\u001b[0m \u001b[0;34m=\u001b[0m \u001b[0mheapq\u001b[0m\u001b[0;34m.\u001b[0m\u001b[0mnlargest\u001b[0m\u001b[0;34m(\u001b[0m\u001b[0mself\u001b[0m\u001b[0;34m.\u001b[0m\u001b[0mk\u001b[0m\u001b[0;34m,\u001b[0m \u001b[0mneighbors\u001b[0m\u001b[0;34m,\u001b[0m \u001b[0mkey\u001b[0m\u001b[0;34m=\u001b[0m\u001b[0;32mlambda\u001b[0m \u001b[0mt\u001b[0m\u001b[0;34m:\u001b[0m \u001b[0mt\u001b[0m\u001b[0;34m[\u001b[0m\u001b[0;36m1\u001b[0m\u001b[0;34m]\u001b[0m\u001b[0;34m)\u001b[0m\u001b[0;34m\u001b[0m\u001b[0;34m\u001b[0m\u001b[0m\n\u001b[1;32m    300\u001b[0m \u001b[0;34m\u001b[0m\u001b[0m\n",
      "\u001b[0;31mKeyboardInterrupt\u001b[0m: "
     ]
    }
   ],
   "source": [
    "param_grid = {'bsl_options': {'method': ['als'], #Best is ALS\n",
    "                             'reg_i': [3], # Best is 3, \n",
    "                             'reg_u': [25], # Best is 25\n",
    "                             'n_epochs': [37], # best is 37\n",
    "                             'reg': [.01], # .01\n",
    "                             'learning_rate': [.001]\n",
    "                             },\n",
    "              'sim_options': {'name': ['msd'], # Best was MSD\n",
    "                              'min_support': [1], # Best was 1\n",
    "                              'user_based': [True],\n",
    "                              'shrinkage': [1] # best was 1\n",
    "                             }\n",
    "              }\n",
    "gs = GridSearchCV(KNNBaseline, param_grid, measures=['rmse', 'mae'], cv=3)\n",
    "\n",
    "gs.fit(data)\n",
    "\n",
    "# best RMSE score\n",
    "print(gs.best_score['rmse'])\n",
    "\n",
    "# combination of parameters that gave the best RMSE score\n",
    "print(gs.best_params['rmse'])"
   ]
  },
  {
   "cell_type": "code",
   "execution_count": 77,
   "metadata": {},
   "outputs": [
    {
     "name": "stdout",
     "output_type": "stream",
     "text": [
      "Estimating biases using als...\n",
      "Computing the msd similarity matrix...\n",
      "Done computing similarity matrix.\n",
      "Estimating biases using als...\n",
      "Computing the msd similarity matrix...\n",
      "Done computing similarity matrix.\n",
      "Estimating biases using als...\n",
      "Computing the msd similarity matrix...\n",
      "Done computing similarity matrix.\n"
     ]
    },
    {
     "data": {
      "text/plain": [
       "{'test_rmse': array([0.51219125, 0.50458284, 0.50946824]),\n",
       " 'fit_time': (6.570694208145142, 6.406170845031738, 6.270360946655273),\n",
       " 'test_time': (23.446837902069092, 18.69985795021057, 19.62760305404663)}"
      ]
     },
     "execution_count": 77,
     "metadata": {},
     "output_type": "execute_result"
    }
   ],
   "source": [
    "bsl_options = {'method': 'als',\n",
    "                'reg_i': 3, # Best is 3, \n",
    "                'reg_u': 25, # Best is 25\n",
    "                'n_epochs': 37\n",
    "               }\n",
    "sim_options = {'name': 'msd',\n",
    "               'min_support': 1, # Best was 1\n",
    "                'user_based': True,\n",
    "                'shrinkage': 1 # best was 1\n",
    "              }\n",
    "algo = KNNBaseline(k=40, min_k=1, sim_options=sim_options,  bsl_options=bsl_options)\n",
    "cross_validate(algo, data, measures=['RMSE'], cv=3, verbose=False)"
   ]
  },
  {
   "cell_type": "code",
   "execution_count": null,
   "metadata": {},
   "outputs": [
    {
     "name": "stdout",
     "output_type": "stream",
     "text": [
      "Estimating biases using als...\n",
      "Computing the msd similarity matrix...\n",
      "Done computing similarity matrix.\n"
     ]
    }
   ],
   "source": [
    "trainset, testset = train_test_split(data, test_size=0.25)\n",
    "algo = KNNBaseline(sim_options=sim_options,  bsl_options=bsl_options)\n",
    "predictions = algo.fit(trainset).test(testset)\n",
    "accuracy.rmse(predictions)"
   ]
  },
  {
   "cell_type": "code",
   "execution_count": null,
   "metadata": {},
   "outputs": [],
   "source": [
    "df = pd.DataFrame(predictions, columns=['uid', 'iid', 'rui', 'est', 'details'])\n",
    "df['Iu'] = df.uid.apply(get_Iu)\n",
    "df['Ui'] = df.iid.apply(get_Ui)\n",
    "df['err'] = abs(df.est - df.rui)\n",
    "df.rename(columns={'uid': 'user_id'}, inplace=True)\n",
    "df.rename(columns={'iid': 'beer_id'}, inplace=True)\n",
    "df.rename(columns={'Ui': 'number_ratings_beer'}, inplace=True)\n",
    "df.rename(columns={'Iu': 'number_ratings_user'}, inplace=True)"
   ]
  },
  {
   "cell_type": "code",
   "execution_count": null,
   "metadata": {},
   "outputs": [],
   "source": [
    "df.head()"
   ]
  },
  {
   "cell_type": "code",
   "execution_count": null,
   "metadata": {},
   "outputs": [],
   "source": [
    "#Get Best and Worst Predictions out of Dataframe of Predictions\n",
    "best_predictions = df.sort_values(by='err')[:10]\n",
    "worst_predictions = df.sort_values(by='err')[-10:]"
   ]
  },
  {
   "cell_type": "code",
   "execution_count": null,
   "metadata": {},
   "outputs": [],
   "source": [
    "best_predictions.head()"
   ]
  },
  {
   "cell_type": "code",
   "execution_count": null,
   "metadata": {},
   "outputs": [],
   "source": [
    "worst_predictions.head()"
   ]
  },
  {
   "cell_type": "markdown",
   "metadata": {},
   "source": [
    "### KNN Baseline w. Gridsearch Evaluation"
   ]
  },
  {
   "cell_type": "code",
   "execution_count": null,
   "metadata": {},
   "outputs": [],
   "source": [
    "KnnBaseline = KNNBaseline(k=40, min_k=1, sim_options=sim_options,  bsl_options=bsl_options)\n",
    "\n",
    "# Compute the RMSE of the knn algorithm.\n",
    "evaluate(KnnBaseline, data, measures=['RMSE'])"
   ]
  },
  {
   "cell_type": "code",
   "execution_count": null,
   "metadata": {},
   "outputs": [],
   "source": [
    "# Compute the RMSE of the knn algorithm.\n",
    "evaluate(KnnBaseline, data, measures=['MAE'])\n",
    "\n",
    "\n"
   ]
  },
  {
   "cell_type": "code",
   "execution_count": null,
   "metadata": {},
   "outputs": [],
   "source": []
  },
  {
   "cell_type": "code",
   "execution_count": null,
   "metadata": {},
   "outputs": [],
   "source": []
  }
 ],
 "metadata": {
  "kernelspec": {
   "display_name": "Python 3",
   "language": "python",
   "name": "python3"
  },
  "language_info": {
   "codemirror_mode": {
    "name": "ipython",
    "version": 3
   },
   "file_extension": ".py",
   "mimetype": "text/x-python",
   "name": "python",
   "nbconvert_exporter": "python",
   "pygments_lexer": "ipython3",
   "version": "3.6.9"
  },
  "toc": {
   "base_numbering": 1,
   "nav_menu": {},
   "number_sections": true,
   "sideBar": true,
   "skip_h1_title": false,
   "title_cell": "Table of Contents",
   "title_sidebar": "Contents",
   "toc_cell": false,
   "toc_position": {},
   "toc_section_display": true,
   "toc_window_display": false
  }
 },
 "nbformat": 4,
 "nbformat_minor": 2
}
