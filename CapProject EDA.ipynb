{
 "cells": [
  {
   "cell_type": "code",
   "execution_count": 71,
   "metadata": {
    "scrolled": true
   },
   "outputs": [],
   "source": [
    "import pandas as pd\n",
    "import matplotlib.pyplot as plt \n",
    "import numpy as np\n",
    "import seaborn as sns\n",
    "import math\n",
    "from sklearn.linear_model import LinearRegression\n",
    "from sklearn.metrics import mean_squared_error"
   ]
  },
  {
   "cell_type": "code",
   "execution_count": 3,
   "metadata": {
    "scrolled": true
   },
   "outputs": [],
   "source": [
    "df = pd.read_csv('Final_Frame.csv', index_col='Unnamed: 0')"
   ]
  },
  {
   "cell_type": "code",
   "execution_count": 4,
   "metadata": {
    "scrolled": true
   },
   "outputs": [],
   "source": [
    "df.fillna(0, inplace=True)"
   ]
  },
  {
   "cell_type": "code",
   "execution_count": 5,
   "metadata": {
    "scrolled": true
   },
   "outputs": [
    {
     "data": {
      "text/plain": [
       "dtype('int64')"
      ]
     },
     "execution_count": 5,
     "metadata": {},
     "output_type": "execute_result"
    }
   ],
   "source": [
    "df.review_time.dtype"
   ]
  },
  {
   "cell_type": "code",
   "execution_count": 6,
   "metadata": {
    "scrolled": true
   },
   "outputs": [],
   "source": [
    "df[ 'review_time' ] = pd.to_datetime(df[ 'review_time' ], unit = 's' )"
   ]
  },
  {
   "cell_type": "code",
   "execution_count": 7,
   "metadata": {
    "scrolled": true
   },
   "outputs": [
    {
     "data": {
      "text/html": [
       "<div>\n",
       "<style scoped>\n",
       "    .dataframe tbody tr th:only-of-type {\n",
       "        vertical-align: middle;\n",
       "    }\n",
       "\n",
       "    .dataframe tbody tr th {\n",
       "        vertical-align: top;\n",
       "    }\n",
       "\n",
       "    .dataframe thead th {\n",
       "        text-align: right;\n",
       "    }\n",
       "</style>\n",
       "<table border=\"1\" class=\"dataframe\">\n",
       "  <thead>\n",
       "    <tr style=\"text-align: right;\">\n",
       "      <th></th>\n",
       "      <th>brewery_name</th>\n",
       "      <th>review_time</th>\n",
       "      <th>review_overall</th>\n",
       "      <th>review_aroma</th>\n",
       "      <th>review_appearance</th>\n",
       "      <th>review_profilename</th>\n",
       "      <th>review_palate</th>\n",
       "      <th>review_taste</th>\n",
       "      <th>name</th>\n",
       "      <th>abv</th>\n",
       "      <th>ibu</th>\n",
       "      <th>id</th>\n",
       "      <th>style</th>\n",
       "      <th>ounces</th>\n",
       "    </tr>\n",
       "  </thead>\n",
       "  <tbody>\n",
       "    <tr>\n",
       "      <td>0</td>\n",
       "      <td>Caldera Brewing Company</td>\n",
       "      <td>2009-08-26 23:01:17</td>\n",
       "      <td>4.0</td>\n",
       "      <td>3.5</td>\n",
       "      <td>3.5</td>\n",
       "      <td>NJpadreFan</td>\n",
       "      <td>4.0</td>\n",
       "      <td>4.0</td>\n",
       "      <td>Caldera Pale Ale</td>\n",
       "      <td>0.056</td>\n",
       "      <td>55.0</td>\n",
       "      <td>1419</td>\n",
       "      <td>American Pale Ale (APA)</td>\n",
       "      <td>12.0</td>\n",
       "    </tr>\n",
       "    <tr>\n",
       "      <td>1</td>\n",
       "      <td>Caldera Brewing Company</td>\n",
       "      <td>2009-08-22 08:15:02</td>\n",
       "      <td>2.5</td>\n",
       "      <td>3.0</td>\n",
       "      <td>3.5</td>\n",
       "      <td>vacax</td>\n",
       "      <td>3.5</td>\n",
       "      <td>2.5</td>\n",
       "      <td>Caldera Pale Ale</td>\n",
       "      <td>0.056</td>\n",
       "      <td>55.0</td>\n",
       "      <td>1419</td>\n",
       "      <td>American Pale Ale (APA)</td>\n",
       "      <td>12.0</td>\n",
       "    </tr>\n",
       "    <tr>\n",
       "      <td>2</td>\n",
       "      <td>Caldera Brewing Company</td>\n",
       "      <td>2009-08-10 01:03:28</td>\n",
       "      <td>4.0</td>\n",
       "      <td>3.5</td>\n",
       "      <td>4.0</td>\n",
       "      <td>d0ggnate</td>\n",
       "      <td>4.0</td>\n",
       "      <td>3.5</td>\n",
       "      <td>Caldera Pale Ale</td>\n",
       "      <td>0.056</td>\n",
       "      <td>55.0</td>\n",
       "      <td>1419</td>\n",
       "      <td>American Pale Ale (APA)</td>\n",
       "      <td>12.0</td>\n",
       "    </tr>\n",
       "    <tr>\n",
       "      <td>3</td>\n",
       "      <td>Caldera Brewing Company</td>\n",
       "      <td>2009-08-09 19:45:21</td>\n",
       "      <td>4.5</td>\n",
       "      <td>3.5</td>\n",
       "      <td>4.0</td>\n",
       "      <td>babyhobbes</td>\n",
       "      <td>3.5</td>\n",
       "      <td>4.0</td>\n",
       "      <td>Caldera Pale Ale</td>\n",
       "      <td>0.056</td>\n",
       "      <td>55.0</td>\n",
       "      <td>1419</td>\n",
       "      <td>American Pale Ale (APA)</td>\n",
       "      <td>12.0</td>\n",
       "    </tr>\n",
       "    <tr>\n",
       "      <td>4</td>\n",
       "      <td>Caldera Brewing Company</td>\n",
       "      <td>2009-08-06 10:57:57</td>\n",
       "      <td>4.5</td>\n",
       "      <td>3.5</td>\n",
       "      <td>4.0</td>\n",
       "      <td>mdagnew</td>\n",
       "      <td>4.0</td>\n",
       "      <td>4.0</td>\n",
       "      <td>Caldera Pale Ale</td>\n",
       "      <td>0.056</td>\n",
       "      <td>55.0</td>\n",
       "      <td>1419</td>\n",
       "      <td>American Pale Ale (APA)</td>\n",
       "      <td>12.0</td>\n",
       "    </tr>\n",
       "    <tr>\n",
       "      <td>...</td>\n",
       "      <td>...</td>\n",
       "      <td>...</td>\n",
       "      <td>...</td>\n",
       "      <td>...</td>\n",
       "      <td>...</td>\n",
       "      <td>...</td>\n",
       "      <td>...</td>\n",
       "      <td>...</td>\n",
       "      <td>...</td>\n",
       "      <td>...</td>\n",
       "      <td>...</td>\n",
       "      <td>...</td>\n",
       "      <td>...</td>\n",
       "      <td>...</td>\n",
       "    </tr>\n",
       "    <tr>\n",
       "      <td>99319</td>\n",
       "      <td>Southern Star Brewing Company</td>\n",
       "      <td>2012-01-08 01:07:49</td>\n",
       "      <td>4.0</td>\n",
       "      <td>4.0</td>\n",
       "      <td>4.0</td>\n",
       "      <td>TenHornsProud</td>\n",
       "      <td>4.0</td>\n",
       "      <td>4.0</td>\n",
       "      <td>Le Mort Vivant</td>\n",
       "      <td>0.069</td>\n",
       "      <td>23.0</td>\n",
       "      <td>1740</td>\n",
       "      <td>Bière de Garde</td>\n",
       "      <td>12.0</td>\n",
       "    </tr>\n",
       "    <tr>\n",
       "      <td>99320</td>\n",
       "      <td>Southern Star Brewing Company</td>\n",
       "      <td>2012-01-06 01:13:08</td>\n",
       "      <td>3.5</td>\n",
       "      <td>3.5</td>\n",
       "      <td>3.5</td>\n",
       "      <td>twiggamortis420</td>\n",
       "      <td>4.5</td>\n",
       "      <td>3.5</td>\n",
       "      <td>Le Mort Vivant</td>\n",
       "      <td>0.069</td>\n",
       "      <td>23.0</td>\n",
       "      <td>1740</td>\n",
       "      <td>Bière de Garde</td>\n",
       "      <td>12.0</td>\n",
       "    </tr>\n",
       "    <tr>\n",
       "      <td>99321</td>\n",
       "      <td>Southern Star Brewing Company</td>\n",
       "      <td>2011-12-30 22:53:59</td>\n",
       "      <td>4.0</td>\n",
       "      <td>3.5</td>\n",
       "      <td>4.0</td>\n",
       "      <td>Mora2000</td>\n",
       "      <td>4.0</td>\n",
       "      <td>3.5</td>\n",
       "      <td>Le Mort Vivant</td>\n",
       "      <td>0.069</td>\n",
       "      <td>23.0</td>\n",
       "      <td>1740</td>\n",
       "      <td>Bière de Garde</td>\n",
       "      <td>12.0</td>\n",
       "    </tr>\n",
       "    <tr>\n",
       "      <td>99322</td>\n",
       "      <td>Southern Star Brewing Company</td>\n",
       "      <td>2011-12-19 23:24:46</td>\n",
       "      <td>4.5</td>\n",
       "      <td>4.0</td>\n",
       "      <td>4.5</td>\n",
       "      <td>HopsKeepDroppin</td>\n",
       "      <td>4.5</td>\n",
       "      <td>4.0</td>\n",
       "      <td>Le Mort Vivant</td>\n",
       "      <td>0.069</td>\n",
       "      <td>23.0</td>\n",
       "      <td>1740</td>\n",
       "      <td>Bière de Garde</td>\n",
       "      <td>12.0</td>\n",
       "    </tr>\n",
       "    <tr>\n",
       "      <td>99323</td>\n",
       "      <td>Southern Star Brewing Company</td>\n",
       "      <td>2011-12-07 01:16:50</td>\n",
       "      <td>4.0</td>\n",
       "      <td>3.5</td>\n",
       "      <td>4.5</td>\n",
       "      <td>champ103</td>\n",
       "      <td>4.5</td>\n",
       "      <td>4.0</td>\n",
       "      <td>Le Mort Vivant</td>\n",
       "      <td>0.069</td>\n",
       "      <td>23.0</td>\n",
       "      <td>1740</td>\n",
       "      <td>Bière de Garde</td>\n",
       "      <td>12.0</td>\n",
       "    </tr>\n",
       "  </tbody>\n",
       "</table>\n",
       "<p>99324 rows × 14 columns</p>\n",
       "</div>"
      ],
      "text/plain": [
       "                        brewery_name         review_time  review_overall  \\\n",
       "0            Caldera Brewing Company 2009-08-26 23:01:17             4.0   \n",
       "1            Caldera Brewing Company 2009-08-22 08:15:02             2.5   \n",
       "2            Caldera Brewing Company 2009-08-10 01:03:28             4.0   \n",
       "3            Caldera Brewing Company 2009-08-09 19:45:21             4.5   \n",
       "4            Caldera Brewing Company 2009-08-06 10:57:57             4.5   \n",
       "...                              ...                 ...             ...   \n",
       "99319  Southern Star Brewing Company 2012-01-08 01:07:49             4.0   \n",
       "99320  Southern Star Brewing Company 2012-01-06 01:13:08             3.5   \n",
       "99321  Southern Star Brewing Company 2011-12-30 22:53:59             4.0   \n",
       "99322  Southern Star Brewing Company 2011-12-19 23:24:46             4.5   \n",
       "99323  Southern Star Brewing Company 2011-12-07 01:16:50             4.0   \n",
       "\n",
       "       review_aroma  review_appearance review_profilename  review_palate  \\\n",
       "0               3.5                3.5         NJpadreFan            4.0   \n",
       "1               3.0                3.5              vacax            3.5   \n",
       "2               3.5                4.0           d0ggnate            4.0   \n",
       "3               3.5                4.0         babyhobbes            3.5   \n",
       "4               3.5                4.0            mdagnew            4.0   \n",
       "...             ...                ...                ...            ...   \n",
       "99319           4.0                4.0      TenHornsProud            4.0   \n",
       "99320           3.5                3.5    twiggamortis420            4.5   \n",
       "99321           3.5                4.0           Mora2000            4.0   \n",
       "99322           4.0                4.5    HopsKeepDroppin            4.5   \n",
       "99323           3.5                4.5           champ103            4.5   \n",
       "\n",
       "       review_taste              name    abv   ibu    id  \\\n",
       "0               4.0  Caldera Pale Ale  0.056  55.0  1419   \n",
       "1               2.5  Caldera Pale Ale  0.056  55.0  1419   \n",
       "2               3.5  Caldera Pale Ale  0.056  55.0  1419   \n",
       "3               4.0  Caldera Pale Ale  0.056  55.0  1419   \n",
       "4               4.0  Caldera Pale Ale  0.056  55.0  1419   \n",
       "...             ...               ...    ...   ...   ...   \n",
       "99319           4.0    Le Mort Vivant  0.069  23.0  1740   \n",
       "99320           3.5    Le Mort Vivant  0.069  23.0  1740   \n",
       "99321           3.5    Le Mort Vivant  0.069  23.0  1740   \n",
       "99322           4.0    Le Mort Vivant  0.069  23.0  1740   \n",
       "99323           4.0    Le Mort Vivant  0.069  23.0  1740   \n",
       "\n",
       "                         style  ounces  \n",
       "0      American Pale Ale (APA)    12.0  \n",
       "1      American Pale Ale (APA)    12.0  \n",
       "2      American Pale Ale (APA)    12.0  \n",
       "3      American Pale Ale (APA)    12.0  \n",
       "4      American Pale Ale (APA)    12.0  \n",
       "...                        ...     ...  \n",
       "99319           Bière de Garde    12.0  \n",
       "99320           Bière de Garde    12.0  \n",
       "99321           Bière de Garde    12.0  \n",
       "99322           Bière de Garde    12.0  \n",
       "99323           Bière de Garde    12.0  \n",
       "\n",
       "[99324 rows x 14 columns]"
      ]
     },
     "execution_count": 7,
     "metadata": {},
     "output_type": "execute_result"
    }
   ],
   "source": [
    "df"
   ]
  },
  {
   "cell_type": "code",
   "execution_count": 8,
   "metadata": {
    "scrolled": true
   },
   "outputs": [
    {
     "name": "stderr",
     "output_type": "stream",
     "text": [
      "/opt/anaconda3/envs/learn-env/lib/python3.6/site-packages/pandas/plotting/_matplotlib/converter.py:103: FutureWarning: Using an implicitly registered datetime converter for a matplotlib plotting method. The converter was registered by pandas on import. Future versions of pandas will require you to explicitly register matplotlib converters.\n",
      "\n",
      "To register the converters:\n",
      "\t>>> from pandas.plotting import register_matplotlib_converters\n",
      "\t>>> register_matplotlib_converters()\n",
      "  warnings.warn(msg, FutureWarning)\n"
     ]
    },
    {
     "data": {
      "image/png": "[encoded data removed]",
      "text/plain": [
       "<Figure size 432x288 with 1 Axes>"
      ]
     },
     "metadata": {
      "needs_background": "light"
     },
     "output_type": "display_data"
    }
   ],
   "source": [
    "group_by_date = df[[ 'review_time' ]].groupby(df['review_time'].dt.date ).agg([ 'count' ])\n",
    "plt.figure\n",
    "plt.plot(group_by_date)\n",
    "plt.xlabel('Date' )\n",
    "plt.ylabel('Number of reviews')\n",
    "plt.title('Number of Reviews per Year')\n",
    "plt.show()"
   ]
  },
  {
   "cell_type": "code",
   "execution_count": 9,
   "metadata": {
    "scrolled": false
   },
   "outputs": [
    {
     "data": {
      "text/plain": [
       "mikesgroove       269\n",
       "woodychandler     240\n",
       "BuckeyeNation     235\n",
       "indiapaleale      194\n",
       "tempest           192\n",
       "                 ... \n",
       "skypilot            1\n",
       "SoCaliC8            1\n",
       "kripke              1\n",
       "imaregularjoe       1\n",
       "Brewsteraddict      1\n",
       "Name: review_profilename, Length: 10868, dtype: int64"
      ]
     },
     "execution_count": 9,
     "metadata": {},
     "output_type": "execute_result"
    }
   ],
   "source": [
    "df['review_profilename' ].value_counts()"
   ]
  },
  {
   "cell_type": "code",
   "execution_count": 10,
   "metadata": {
    "scrolled": true
   },
   "outputs": [
    {
     "name": "stdout",
     "output_type": "stream",
     "text": [
      "Unique users: 10868\n",
      "Unique users with more than 1 review: 7710 - 71.0%\n"
     ]
    }
   ],
   "source": [
    "# Count of unique users\n",
    "print( 'Unique users:', df[ 'review_profilename' ].nunique() )\n",
    "print( 'Unique users with more than 1 review:', df[ 'review_profilename' ].value_counts()[df[ 'review_profilename' ].value_counts() > 1 ].shape[ 0 ], '-' , str( round(df[ 'review_profilename' ].value_counts()[df['review_profilename'].value_counts() > 1 ].shape[ 0 ] / df[ 'review_profilename' ].nunique(), 2 ) * 100 ) + '%' )"
   ]
  },
  {
   "cell_type": "code",
   "execution_count": 11,
   "metadata": {},
   "outputs": [],
   "source": [
    "beers_df = df[[ 'name', 'brewery_name', 'style', 'abv', 'ibu', 'ounces' ]].drop_duplicates()"
   ]
  },
  {
   "cell_type": "code",
   "execution_count": 12,
   "metadata": {},
   "outputs": [
    {
     "data": {
      "text/html": [
       "<div>\n",
       "<style scoped>\n",
       "    .dataframe tbody tr th:only-of-type {\n",
       "        vertical-align: middle;\n",
       "    }\n",
       "\n",
       "    .dataframe tbody tr th {\n",
       "        vertical-align: top;\n",
       "    }\n",
       "\n",
       "    .dataframe thead th {\n",
       "        text-align: right;\n",
       "    }\n",
       "</style>\n",
       "<table border=\"1\" class=\"dataframe\">\n",
       "  <thead>\n",
       "    <tr style=\"text-align: right;\">\n",
       "      <th></th>\n",
       "      <th>name</th>\n",
       "      <th>brewery_name</th>\n",
       "      <th>style</th>\n",
       "      <th>abv</th>\n",
       "      <th>ibu</th>\n",
       "      <th>ounces</th>\n",
       "    </tr>\n",
       "  </thead>\n",
       "  <tbody>\n",
       "    <tr>\n",
       "      <td>0</td>\n",
       "      <td>Caldera Pale Ale</td>\n",
       "      <td>Caldera Brewing Company</td>\n",
       "      <td>American Pale Ale (APA)</td>\n",
       "      <td>0.056</td>\n",
       "      <td>55.0</td>\n",
       "      <td>12.0</td>\n",
       "    </tr>\n",
       "    <tr>\n",
       "      <td>163</td>\n",
       "      <td>Pilot Rock Porter</td>\n",
       "      <td>Caldera Brewing Company</td>\n",
       "      <td>American Porter</td>\n",
       "      <td>0.060</td>\n",
       "      <td>0.0</td>\n",
       "      <td>12.0</td>\n",
       "    </tr>\n",
       "    <tr>\n",
       "      <td>172</td>\n",
       "      <td>Caldera IPA</td>\n",
       "      <td>Caldera Brewing Company</td>\n",
       "      <td>American IPA</td>\n",
       "      <td>0.061</td>\n",
       "      <td>94.0</td>\n",
       "      <td>12.0</td>\n",
       "    </tr>\n",
       "    <tr>\n",
       "      <td>553</td>\n",
       "      <td>Lawnmower Lager</td>\n",
       "      <td>Caldera Brewing Company</td>\n",
       "      <td>American Adjunct Lager</td>\n",
       "      <td>0.039</td>\n",
       "      <td>16.0</td>\n",
       "      <td>12.0</td>\n",
       "    </tr>\n",
       "    <tr>\n",
       "      <td>567</td>\n",
       "      <td>Lawnmower Lager</td>\n",
       "      <td>Ellersick Brewing Company</td>\n",
       "      <td>American Adjunct Lager</td>\n",
       "      <td>0.039</td>\n",
       "      <td>16.0</td>\n",
       "      <td>12.0</td>\n",
       "    </tr>\n",
       "    <tr>\n",
       "      <td>...</td>\n",
       "      <td>...</td>\n",
       "      <td>...</td>\n",
       "      <td>...</td>\n",
       "      <td>...</td>\n",
       "      <td>...</td>\n",
       "      <td>...</td>\n",
       "    </tr>\n",
       "    <tr>\n",
       "      <td>98253</td>\n",
       "      <td>Cow Creek</td>\n",
       "      <td>Twisted X Brewing Company</td>\n",
       "      <td>American Amber / Red Lager</td>\n",
       "      <td>0.054</td>\n",
       "      <td>26.0</td>\n",
       "      <td>12.0</td>\n",
       "    </tr>\n",
       "    <tr>\n",
       "      <td>98254</td>\n",
       "      <td>Buried Hatchet Stout</td>\n",
       "      <td>Southern Star Brewing Company</td>\n",
       "      <td>Foreign / Export Stout</td>\n",
       "      <td>0.083</td>\n",
       "      <td>50.0</td>\n",
       "      <td>12.0</td>\n",
       "    </tr>\n",
       "    <tr>\n",
       "      <td>98610</td>\n",
       "      <td>Pine Belt Pale Ale</td>\n",
       "      <td>Southern Star Brewing Company</td>\n",
       "      <td>American Pale Ale (APA)</td>\n",
       "      <td>0.065</td>\n",
       "      <td>45.0</td>\n",
       "      <td>12.0</td>\n",
       "    </tr>\n",
       "    <tr>\n",
       "      <td>98611</td>\n",
       "      <td>Pine Belt Pale Ale</td>\n",
       "      <td>Southern Star Brewing Company</td>\n",
       "      <td>American Pale Ale (APA)</td>\n",
       "      <td>0.065</td>\n",
       "      <td>45.0</td>\n",
       "      <td>16.0</td>\n",
       "    </tr>\n",
       "    <tr>\n",
       "      <td>99318</td>\n",
       "      <td>Le Mort Vivant</td>\n",
       "      <td>Southern Star Brewing Company</td>\n",
       "      <td>Bière de Garde</td>\n",
       "      <td>0.069</td>\n",
       "      <td>23.0</td>\n",
       "      <td>12.0</td>\n",
       "    </tr>\n",
       "  </tbody>\n",
       "</table>\n",
       "<p>2665 rows × 6 columns</p>\n",
       "</div>"
      ],
      "text/plain": [
       "                       name                   brewery_name  \\\n",
       "0          Caldera Pale Ale        Caldera Brewing Company   \n",
       "163       Pilot Rock Porter        Caldera Brewing Company   \n",
       "172             Caldera IPA        Caldera Brewing Company   \n",
       "553         Lawnmower Lager        Caldera Brewing Company   \n",
       "567         Lawnmower Lager      Ellersick Brewing Company   \n",
       "...                     ...                            ...   \n",
       "98253             Cow Creek      Twisted X Brewing Company   \n",
       "98254  Buried Hatchet Stout  Southern Star Brewing Company   \n",
       "98610    Pine Belt Pale Ale  Southern Star Brewing Company   \n",
       "98611    Pine Belt Pale Ale  Southern Star Brewing Company   \n",
       "99318        Le Mort Vivant  Southern Star Brewing Company   \n",
       "\n",
       "                            style    abv   ibu  ounces  \n",
       "0         American Pale Ale (APA)  0.056  55.0    12.0  \n",
       "163               American Porter  0.060   0.0    12.0  \n",
       "172                  American IPA  0.061  94.0    12.0  \n",
       "553        American Adjunct Lager  0.039  16.0    12.0  \n",
       "567        American Adjunct Lager  0.039  16.0    12.0  \n",
       "...                           ...    ...   ...     ...  \n",
       "98253  American Amber / Red Lager  0.054  26.0    12.0  \n",
       "98254      Foreign / Export Stout  0.083  50.0    12.0  \n",
       "98610     American Pale Ale (APA)  0.065  45.0    12.0  \n",
       "98611     American Pale Ale (APA)  0.065  45.0    16.0  \n",
       "99318              Bière de Garde  0.069  23.0    12.0  \n",
       "\n",
       "[2665 rows x 6 columns]"
      ]
     },
     "execution_count": 12,
     "metadata": {},
     "output_type": "execute_result"
    }
   ],
   "source": [
    "beers_df"
   ]
  },
  {
   "cell_type": "code",
   "execution_count": 13,
   "metadata": {},
   "outputs": [
    {
     "data": {
      "text/plain": [
       "(2257, 6)"
      ]
     },
     "execution_count": 13,
     "metadata": {},
     "output_type": "execute_result"
    }
   ],
   "source": [
    "beers_df.loc[beers_df.duplicated(subset = [ 'name' ], keep = False ) ].sort_values( by = 'name'  ).shape"
   ]
  },
  {
   "cell_type": "code",
   "execution_count": 14,
   "metadata": {},
   "outputs": [
    {
     "data": {
      "text/plain": [
       "Sly Fox Brewing Company                  18\n",
       "Rock Bottom Restaurant & Brewery         15\n",
       "Flat Branch Pub & Brewery                15\n",
       "Rohrbach Brewing Company (Brewpub)       15\n",
       "Triumph Brewing Company                  14\n",
       "                                         ..\n",
       "LogJam Microbrewery                       1\n",
       "Emerald City Beer Company                 1\n",
       "Ozark Brewing Company                     1\n",
       "Humperdinks Restaurant and Sports Bar     1\n",
       "C.I. Shenanigan's Seafood & Chophouse     1\n",
       "Name: brewery_name, Length: 1009, dtype: int64"
      ]
     },
     "execution_count": 14,
     "metadata": {},
     "output_type": "execute_result"
    }
   ],
   "source": [
    "beers_df[ 'brewery_name' ].value_counts( dropna = False )"
   ]
  },
  {
   "cell_type": "code",
   "execution_count": 15,
   "metadata": {},
   "outputs": [
    {
     "data": {
      "text/plain": [
       "Märzen / Oktoberfest        1007\n",
       "American IPA                 403\n",
       "American Amber / Red Ale     116\n",
       "American Pale Wheat Ale       82\n",
       "Pumpkin Ale                   80\n",
       "                            ... \n",
       "Flanders Red Ale               1\n",
       "Doppelbock                     1\n",
       "American Malt Liquor           1\n",
       "American White IPA             1\n",
       "Bière de Garde                 1\n",
       "Name: style, Length: 77, dtype: int64"
      ]
     },
     "execution_count": 15,
     "metadata": {},
     "output_type": "execute_result"
    }
   ],
   "source": [
    "beers_df['style' ].value_counts( dropna = False )"
   ]
  },
  {
   "cell_type": "code",
   "execution_count": 16,
   "metadata": {},
   "outputs": [
    {
     "data": {
      "image/png": "[encoded data removed]",
      "text/plain": [
       "<Figure size 432x288 with 1 Axes>"
      ]
     },
     "metadata": {
      "needs_background": "light"
     },
     "output_type": "display_data"
    }
   ],
   "source": [
    "plt.figure()\n",
    "plt.hist(beers_df['abv'], bins = 50 )\n",
    "plt.xlabel( 'ABV%' )\n",
    "plt.ylabel( 'Frequency' )\n",
    "plt.title( 'Histogram by ABV%' )\n",
    "#plt.yscale( 'log' )\n",
    "plt.show()"
   ]
  },
  {
   "cell_type": "code",
   "execution_count": 17,
   "metadata": {},
   "outputs": [
    {
     "data": {
      "text/plain": [
       "Text(0.5, 1, 'Pearson Correlation')"
      ]
     },
     "execution_count": 17,
     "metadata": {},
     "output_type": "execute_result"
    },
    {
     "data": {
      "image/png": "[encoded data removed]",
      "text/plain": [
       "<Figure size 432x288 with 2 Axes>"
      ]
     },
     "metadata": {
      "needs_background": "light"
     },
     "output_type": "display_data"
    }
   ],
   "source": [
    "sns.heatmap(df[['review_overall', 'review_aroma', 'review_appearance', 'review_palate', 'review_taste', 'abv', 'ibu', 'style' ]].corr(), center = 0,  vmin = -1, vmax = 1 )\n",
    "plt.title( 'Pearson Correlation' )"
   ]
  },
  {
   "cell_type": "code",
   "execution_count": 18,
   "metadata": {},
   "outputs": [
    {
     "data": {
      "text/plain": [
       "Text(0.5, 1, 'Spearman Correlation')"
      ]
     },
     "execution_count": 18,
     "metadata": {},
     "output_type": "execute_result"
    },
    {
     "data": {
      "image/png": "[encoded data removed]",
      "text/plain": [
       "<Figure size 432x288 with 2 Axes>"
      ]
     },
     "metadata": {
      "needs_background": "light"
     },
     "output_type": "display_data"
    }
   ],
   "source": [
    "sns.heatmap(df[['review_overall', 'review_aroma', 'review_appearance', 'review_palate', 'review_taste', 'abv', 'ibu', 'style' ]].corr( method = 'spearman' ), center = 0,  vmin = -1, vmax = 1 )\n",
    "plt.title( 'Spearman Correlation' )"
   ]
  },
  {
   "cell_type": "code",
   "execution_count": 19,
   "metadata": {},
   "outputs": [
    {
     "data": {
      "text/plain": [
       "Index(['brewery_name', 'review_time', 'review_overall', 'review_aroma',\n",
       "       'review_appearance', 'review_profilename', 'review_palate',\n",
       "       'review_taste', 'name', 'abv', 'ibu', 'id', 'style', 'ounces'],\n",
       "      dtype='object')"
      ]
     },
     "execution_count": 19,
     "metadata": {},
     "output_type": "execute_result"
    }
   ],
   "source": [
    "df.columns"
   ]
  },
  {
   "cell_type": "code",
   "execution_count": 20,
   "metadata": {},
   "outputs": [
    {
     "data": {
      "image/png": "[encoded data removed]",
      "text/plain": [
       "<Figure size 432x288 with 1 Axes>"
      ]
     },
     "metadata": {
      "needs_background": "light"
     },
     "output_type": "display_data"
    }
   ],
   "source": [
    "plt.figure()\n",
    "plt.hist(beers_df['ibu'], bins = 50 )\n",
    "plt.xlabel( 'IBU%' )\n",
    "plt.ylabel( 'Frequency' )\n",
    "plt.title( 'Histogram by IBU%' )\n",
    "#plt.yscale( 'log' )\n",
    "plt.show()"
   ]
  },
  {
   "cell_type": "code",
   "execution_count": 21,
   "metadata": {},
   "outputs": [
    {
     "data": {
      "text/plain": [
       "array([[<matplotlib.axes._subplots.AxesSubplot object at 0x1a15df35c0>,\n",
       "        <matplotlib.axes._subplots.AxesSubplot object at 0x1a17147ba8>,\n",
       "        <matplotlib.axes._subplots.AxesSubplot object at 0x1a17180198>],\n",
       "       [<matplotlib.axes._subplots.AxesSubplot object at 0x1a171ad748>,\n",
       "        <matplotlib.axes._subplots.AxesSubplot object at 0x1a171dccf8>,\n",
       "        <matplotlib.axes._subplots.AxesSubplot object at 0x1a172152e8>],\n",
       "       [<matplotlib.axes._subplots.AxesSubplot object at 0x1a18413898>,\n",
       "        <matplotlib.axes._subplots.AxesSubplot object at 0x1a18443e80>,\n",
       "        <matplotlib.axes._subplots.AxesSubplot object at 0x1a18443eb8>]],\n",
       "      dtype=object)"
      ]
     },
     "execution_count": 21,
     "metadata": {},
     "output_type": "execute_result"
    },
    {
     "data": {
      "image/png": "[encoded data removed]",
      "text/plain": [
       "<Figure size 432x288 with 9 Axes>"
      ]
     },
     "metadata": {
      "needs_background": "light"
     },
     "output_type": "display_data"
    }
   ],
   "source": [
    "df.hist()"
   ]
  },
  {
   "cell_type": "code",
   "execution_count": 22,
   "metadata": {},
   "outputs": [
    {
     "data": {
      "text/plain": [
       "Index(['brewery_name', 'review_time', 'review_overall', 'review_aroma',\n",
       "       'review_appearance', 'review_profilename', 'review_palate',\n",
       "       'review_taste', 'name', 'abv', 'ibu', 'id', 'style', 'ounces'],\n",
       "      dtype='object')"
      ]
     },
     "execution_count": 22,
     "metadata": {},
     "output_type": "execute_result"
    }
   ],
   "source": [
    "df.columns"
   ]
  },
  {
   "cell_type": "code",
   "execution_count": null,
   "metadata": {},
   "outputs": [],
   "source": []
  },
  {
   "cell_type": "code",
   "execution_count": 23,
   "metadata": {},
   "outputs": [],
   "source": [
    "df['Ratings_per_user'] = df.groupby('review_profilename')['id'].transform('count')"
   ]
  },
  {
   "cell_type": "code",
   "execution_count": 24,
   "metadata": {},
   "outputs": [
    {
     "data": {
      "text/plain": [
       "Text(0.5, 1.0, 'Reviews per user')"
      ]
     },
     "execution_count": 24,
     "metadata": {},
     "output_type": "execute_result"
    },
    {
     "data": {
      "image/png": "[encoded data removed]",
      "text/plain": [
       "<Figure size 432x288 with 1 Axes>"
      ]
     },
     "metadata": {
      "needs_background": "light"
     },
     "output_type": "display_data"
    }
   ],
   "source": [
    "df.Ratings_per_user.hist(bins=100)\n",
    "plt.xlabel('reviews')\n",
    "plt.ylabel('users')\n",
    "plt.title('Reviews per user')"
   ]
  },
  {
   "cell_type": "code",
   "execution_count": 29,
   "metadata": {},
   "outputs": [],
   "source": [
    "def ci_lower_bound( pos, n ):\n",
    "    if n == 0:\n",
    "        return 0\n",
    "    z = 1.96 # For a IC of 0.95\n",
    "    phat = 1.0 * pos / n\n",
    "    return ( phat + ( z ** 2 ) / ( 2 * n ) - z * math.sqrt( ( phat * ( 1 - phat ) + ( z ** 2 ) / ( 4 * n ) ) / n ) ) / ( 1 + ( z ** 2 ) / n )"
   ]
  },
  {
   "cell_type": "code",
   "execution_count": 30,
   "metadata": {},
   "outputs": [],
   "source": [
    "def agg_reviews( reviews ):\n",
    "    pos = 0\n",
    "    for index, review in reviews[ reviews >= 3 ].iteritems():\n",
    "        pos += review / 5\n",
    "    #pos = ratings[ ratings >= 3 ].shape[ 0 ]\n",
    "    return ci_lower_bound( pos, reviews.shape[ 0 ] ) * 5"
   ]
  },
  {
   "cell_type": "code",
   "execution_count": 34,
   "metadata": {},
   "outputs": [],
   "source": [
    "grouped_beers_df = df.groupby( [ 'name', 'brewery_name', 'style', 'abv', 'ibu' ] ) \\\n",
    "    .agg( { 'review_overall' : agg_reviews, 'review_aroma' : agg_reviews, 'review_appearance' : agg_reviews, 'review_palate' : agg_reviews, 'review_taste'  : agg_reviews, 'review_profilename' : 'count' } ).reset_index() \\\n",
    "    .rename( columns = { 'review_profilename' : 'number_of_reviews' } )"
   ]
  },
  {
   "cell_type": "code",
   "execution_count": 37,
   "metadata": {},
   "outputs": [
    {
     "data": {
      "text/html": [
       "<div>\n",
       "<style scoped>\n",
       "    .dataframe tbody tr th:only-of-type {\n",
       "        vertical-align: middle;\n",
       "    }\n",
       "\n",
       "    .dataframe tbody tr th {\n",
       "        vertical-align: top;\n",
       "    }\n",
       "\n",
       "    .dataframe thead th {\n",
       "        text-align: right;\n",
       "    }\n",
       "</style>\n",
       "<table border=\"1\" class=\"dataframe\">\n",
       "  <thead>\n",
       "    <tr style=\"text-align: right;\">\n",
       "      <th></th>\n",
       "      <th>name</th>\n",
       "      <th>brewery_name</th>\n",
       "      <th>style</th>\n",
       "      <th>abv</th>\n",
       "      <th>ibu</th>\n",
       "      <th>review_overall</th>\n",
       "      <th>review_aroma</th>\n",
       "      <th>review_appearance</th>\n",
       "      <th>review_palate</th>\n",
       "      <th>review_taste</th>\n",
       "      <th>number_of_reviews</th>\n",
       "    </tr>\n",
       "  </thead>\n",
       "  <tbody>\n",
       "    <tr>\n",
       "      <td>450</td>\n",
       "      <td>Dale's Pale Ale</td>\n",
       "      <td>Oskar Blues Grill &amp; Brew</td>\n",
       "      <td>American Pale Ale (APA)</td>\n",
       "      <td>0.065</td>\n",
       "      <td>65.0</td>\n",
       "      <td>3.980082</td>\n",
       "      <td>3.771854</td>\n",
       "      <td>3.887652</td>\n",
       "      <td>3.786932</td>\n",
       "      <td>3.887301</td>\n",
       "      <td>8664</td>\n",
       "    </tr>\n",
       "    <tr>\n",
       "      <td>2340</td>\n",
       "      <td>Sierra Nevada Pale Ale</td>\n",
       "      <td>Sierra Nevada Brewing Co.</td>\n",
       "      <td>American Pale Ale (APA)</td>\n",
       "      <td>0.056</td>\n",
       "      <td>37.0</td>\n",
       "      <td>4.168838</td>\n",
       "      <td>3.825308</td>\n",
       "      <td>3.928832</td>\n",
       "      <td>3.883933</td>\n",
       "      <td>4.030599</td>\n",
       "      <td>5174</td>\n",
       "    </tr>\n",
       "    <tr>\n",
       "      <td>526</td>\n",
       "      <td>Fat Tire Amber Ale</td>\n",
       "      <td>New Belgium Brewing</td>\n",
       "      <td>American Amber / Red Ale</td>\n",
       "      <td>0.052</td>\n",
       "      <td>18.0</td>\n",
       "      <td>3.635017</td>\n",
       "      <td>3.177313</td>\n",
       "      <td>3.616188</td>\n",
       "      <td>3.352656</td>\n",
       "      <td>3.346310</td>\n",
       "      <td>3350</td>\n",
       "    </tr>\n",
       "    <tr>\n",
       "      <td>0</td>\n",
       "      <td>#9</td>\n",
       "      <td>Magic Hat Brewing Company</td>\n",
       "      <td>Fruit / Vegetable Beer</td>\n",
       "      <td>0.051</td>\n",
       "      <td>20.0</td>\n",
       "      <td>3.157812</td>\n",
       "      <td>3.051085</td>\n",
       "      <td>3.282271</td>\n",
       "      <td>3.037451</td>\n",
       "      <td>2.976658</td>\n",
       "      <td>2884</td>\n",
       "    </tr>\n",
       "    <tr>\n",
       "      <td>1023</td>\n",
       "      <td>Long Hammer IPA</td>\n",
       "      <td>Redhook Ale Brewery</td>\n",
       "      <td>American IPA</td>\n",
       "      <td>0.065</td>\n",
       "      <td>44.0</td>\n",
       "      <td>2.894641</td>\n",
       "      <td>2.539939</td>\n",
       "      <td>2.909310</td>\n",
       "      <td>2.627941</td>\n",
       "      <td>2.492464</td>\n",
       "      <td>2128</td>\n",
       "    </tr>\n",
       "  </tbody>\n",
       "</table>\n",
       "</div>"
      ],
      "text/plain": [
       "                        name               brewery_name  \\\n",
       "450          Dale's Pale Ale   Oskar Blues Grill & Brew   \n",
       "2340  Sierra Nevada Pale Ale  Sierra Nevada Brewing Co.   \n",
       "526       Fat Tire Amber Ale        New Belgium Brewing   \n",
       "0                         #9  Magic Hat Brewing Company   \n",
       "1023         Long Hammer IPA        Redhook Ale Brewery   \n",
       "\n",
       "                         style    abv   ibu  review_overall  review_aroma  \\\n",
       "450    American Pale Ale (APA)  0.065  65.0        3.980082      3.771854   \n",
       "2340   American Pale Ale (APA)  0.056  37.0        4.168838      3.825308   \n",
       "526   American Amber / Red Ale  0.052  18.0        3.635017      3.177313   \n",
       "0       Fruit / Vegetable Beer  0.051  20.0        3.157812      3.051085   \n",
       "1023              American IPA  0.065  44.0        2.894641      2.539939   \n",
       "\n",
       "      review_appearance  review_palate  review_taste  number_of_reviews  \n",
       "450            3.887652       3.786932      3.887301               8664  \n",
       "2340           3.928832       3.883933      4.030599               5174  \n",
       "526            3.616188       3.352656      3.346310               3350  \n",
       "0              3.282271       3.037451      2.976658               2884  \n",
       "1023           2.909310       2.627941      2.492464               2128  "
      ]
     },
     "execution_count": 37,
     "metadata": {},
     "output_type": "execute_result"
    }
   ],
   "source": [
    "#Top 5 Beers of Reviews\n",
    "grouped_beers_df.sort_values( by = 'number_of_reviews', ascending = False ).head()"
   ]
  },
  {
   "cell_type": "code",
   "execution_count": 54,
   "metadata": {},
   "outputs": [
    {
     "data": {
      "text/html": [
       "<div>\n",
       "<style scoped>\n",
       "    .dataframe tbody tr th:only-of-type {\n",
       "        vertical-align: middle;\n",
       "    }\n",
       "\n",
       "    .dataframe tbody tr th {\n",
       "        vertical-align: top;\n",
       "    }\n",
       "\n",
       "    .dataframe thead th {\n",
       "        text-align: right;\n",
       "    }\n",
       "</style>\n",
       "<table border=\"1\" class=\"dataframe\">\n",
       "  <thead>\n",
       "    <tr style=\"text-align: right;\">\n",
       "      <th></th>\n",
       "      <th>brewery_name</th>\n",
       "      <th>name</th>\n",
       "      <th>abv</th>\n",
       "    </tr>\n",
       "  </thead>\n",
       "  <tbody>\n",
       "    <tr>\n",
       "      <td>124</td>\n",
       "      <td>Minhas Craft Brewery</td>\n",
       "      <td>Axe Head Malt Liquor</td>\n",
       "      <td>0.099</td>\n",
       "    </tr>\n",
       "    <tr>\n",
       "      <td>544</td>\n",
       "      <td>Oskar Blues Grill &amp; Brew</td>\n",
       "      <td>GUBNA Imperial IPA</td>\n",
       "      <td>0.099</td>\n",
       "    </tr>\n",
       "    <tr>\n",
       "      <td>2336</td>\n",
       "      <td>Marshall Wharf Brewing Company / Three Tides R...</td>\n",
       "      <td>Sexy Chaos</td>\n",
       "      <td>0.099</td>\n",
       "    </tr>\n",
       "    <tr>\n",
       "      <td>13</td>\n",
       "      <td>Surly Brewing Company</td>\n",
       "      <td>Abrasive Ale</td>\n",
       "      <td>0.097</td>\n",
       "    </tr>\n",
       "    <tr>\n",
       "      <td>688</td>\n",
       "      <td>21st Amendment Brewery</td>\n",
       "      <td>Hop Crisis</td>\n",
       "      <td>0.097</td>\n",
       "    </tr>\n",
       "    <tr>\n",
       "      <td>695</td>\n",
       "      <td>Destihl Restaurant &amp; Brew Works</td>\n",
       "      <td>Hoperation Overload</td>\n",
       "      <td>0.096</td>\n",
       "    </tr>\n",
       "    <tr>\n",
       "      <td>2462</td>\n",
       "      <td>The Alchemist Pub &amp; Brewery</td>\n",
       "      <td>The Crusher</td>\n",
       "      <td>0.096</td>\n",
       "    </tr>\n",
       "    <tr>\n",
       "      <td>2348</td>\n",
       "      <td>Good People Brewing Company</td>\n",
       "      <td>Snake Handler Double IPA</td>\n",
       "      <td>0.093</td>\n",
       "    </tr>\n",
       "    <tr>\n",
       "      <td>466</td>\n",
       "      <td>Aviator Brewing Company</td>\n",
       "      <td>Devils Tramping Ground Tripel</td>\n",
       "      <td>0.092</td>\n",
       "    </tr>\n",
       "    <tr>\n",
       "      <td>586</td>\n",
       "      <td>Voodoo Brewing Company</td>\n",
       "      <td>Gran Met</td>\n",
       "      <td>0.092</td>\n",
       "    </tr>\n",
       "    <tr>\n",
       "      <td>2278</td>\n",
       "      <td>Armadillo Ale Works</td>\n",
       "      <td>Quakertown Stout</td>\n",
       "      <td>0.092</td>\n",
       "    </tr>\n",
       "    <tr>\n",
       "      <td>2580</td>\n",
       "      <td>Voodoo Brewing Company</td>\n",
       "      <td>Voodoo Love Child</td>\n",
       "      <td>0.092</td>\n",
       "    </tr>\n",
       "    <tr>\n",
       "      <td>994</td>\n",
       "      <td>Sonoma Springs Brewing Co.</td>\n",
       "      <td>Isis</td>\n",
       "      <td>0.091</td>\n",
       "    </tr>\n",
       "  </tbody>\n",
       "</table>\n",
       "</div>"
      ],
      "text/plain": [
       "                                           brewery_name  \\\n",
       "124                                Minhas Craft Brewery   \n",
       "544                            Oskar Blues Grill & Brew   \n",
       "2336  Marshall Wharf Brewing Company / Three Tides R...   \n",
       "13                                Surly Brewing Company   \n",
       "688                              21st Amendment Brewery   \n",
       "695                     Destihl Restaurant & Brew Works   \n",
       "2462                        The Alchemist Pub & Brewery   \n",
       "2348                        Good People Brewing Company   \n",
       "466                             Aviator Brewing Company   \n",
       "586                              Voodoo Brewing Company   \n",
       "2278                                Armadillo Ale Works   \n",
       "2580                             Voodoo Brewing Company   \n",
       "994                          Sonoma Springs Brewing Co.   \n",
       "\n",
       "                               name    abv  \n",
       "124            Axe Head Malt Liquor  0.099  \n",
       "544              GUBNA Imperial IPA  0.099  \n",
       "2336                     Sexy Chaos  0.099  \n",
       "13                     Abrasive Ale  0.097  \n",
       "688                      Hop Crisis  0.097  \n",
       "695             Hoperation Overload  0.096  \n",
       "2462                    The Crusher  0.096  \n",
       "2348       Snake Handler Double IPA  0.093  \n",
       "466   Devils Tramping Ground Tripel  0.092  \n",
       "586                        Gran Met  0.092  \n",
       "2278               Quakertown Stout  0.092  \n",
       "2580              Voodoo Love Child  0.092  \n",
       "994                            Isis  0.091  "
      ]
     },
     "execution_count": 54,
     "metadata": {},
     "output_type": "execute_result"
    }
   ],
   "source": [
    "grouped_beers_df.loc[ grouped_beers_df[ 'abv' ] > .09 ] \\\n",
    "    .sort_values( by = [ 'abv' ], ascending = False )[ [ 'brewery_name', 'name', 'abv' ] ]"
   ]
  },
  {
   "cell_type": "code",
   "execution_count": 59,
   "metadata": {},
   "outputs": [
    {
     "data": {
      "text/html": [
       "<div>\n",
       "<style scoped>\n",
       "    .dataframe tbody tr th:only-of-type {\n",
       "        vertical-align: middle;\n",
       "    }\n",
       "\n",
       "    .dataframe tbody tr th {\n",
       "        vertical-align: top;\n",
       "    }\n",
       "\n",
       "    .dataframe thead th {\n",
       "        text-align: right;\n",
       "    }\n",
       "</style>\n",
       "<table border=\"1\" class=\"dataframe\">\n",
       "  <thead>\n",
       "    <tr style=\"text-align: right;\">\n",
       "      <th></th>\n",
       "      <th>brewery_name</th>\n",
       "      <th>name</th>\n",
       "      <th>ibu</th>\n",
       "    </tr>\n",
       "  </thead>\n",
       "  <tbody>\n",
       "    <tr>\n",
       "      <td>214</td>\n",
       "      <td>Astoria Brewing Company / Wet Dog Cafe</td>\n",
       "      <td>Bitter Bitch Imperial IPA</td>\n",
       "      <td>138.0</td>\n",
       "    </tr>\n",
       "    <tr>\n",
       "      <td>2471</td>\n",
       "      <td>Wolf Hills Brewing Company</td>\n",
       "      <td>Troopers Alley IPA</td>\n",
       "      <td>135.0</td>\n",
       "    </tr>\n",
       "    <tr>\n",
       "      <td>13</td>\n",
       "      <td>Surly Brewing Company</td>\n",
       "      <td>Abrasive Ale</td>\n",
       "      <td>120.0</td>\n",
       "    </tr>\n",
       "    <tr>\n",
       "      <td>651</td>\n",
       "      <td>The Alchemist</td>\n",
       "      <td>Heady Topper</td>\n",
       "      <td>120.0</td>\n",
       "    </tr>\n",
       "    <tr>\n",
       "      <td>539</td>\n",
       "      <td>Seven Brides Brewing</td>\n",
       "      <td>Frankenlou's IPA</td>\n",
       "      <td>105.0</td>\n",
       "    </tr>\n",
       "    <tr>\n",
       "      <td>601</td>\n",
       "      <td>Flat 12 Bierwerks</td>\n",
       "      <td>Half Cycle IPA</td>\n",
       "      <td>104.0</td>\n",
       "    </tr>\n",
       "    <tr>\n",
       "      <td>2348</td>\n",
       "      <td>Good People Brewing Company</td>\n",
       "      <td>Snake Handler Double IPA</td>\n",
       "      <td>103.0</td>\n",
       "    </tr>\n",
       "    <tr>\n",
       "      <td>2640</td>\n",
       "      <td>Alameda Brewhouse</td>\n",
       "      <td>Yellow Wolf Imperial IPA</td>\n",
       "      <td>103.0</td>\n",
       "    </tr>\n",
       "  </tbody>\n",
       "</table>\n",
       "</div>"
      ],
      "text/plain": [
       "                                brewery_name                       name    ibu\n",
       "214   Astoria Brewing Company / Wet Dog Cafe  Bitter Bitch Imperial IPA  138.0\n",
       "2471              Wolf Hills Brewing Company         Troopers Alley IPA  135.0\n",
       "13                     Surly Brewing Company               Abrasive Ale  120.0\n",
       "651                            The Alchemist               Heady Topper  120.0\n",
       "539                     Seven Brides Brewing           Frankenlou's IPA  105.0\n",
       "601                        Flat 12 Bierwerks             Half Cycle IPA  104.0\n",
       "2348             Good People Brewing Company   Snake Handler Double IPA  103.0\n",
       "2640                       Alameda Brewhouse   Yellow Wolf Imperial IPA  103.0"
      ]
     },
     "execution_count": 59,
     "metadata": {},
     "output_type": "execute_result"
    }
   ],
   "source": [
    "grouped_beers_df.loc[ grouped_beers_df[ 'ibu' ] > 100 ] \\\n",
    "    .sort_values( by = [ 'ibu' ], ascending = False )[ [ 'brewery_name', 'name', 'ibu' ] ]"
   ]
  },
  {
   "cell_type": "code",
   "execution_count": 61,
   "metadata": {},
   "outputs": [
    {
     "data": {
      "text/html": [
       "<div>\n",
       "<style scoped>\n",
       "    .dataframe tbody tr th:only-of-type {\n",
       "        vertical-align: middle;\n",
       "    }\n",
       "\n",
       "    .dataframe tbody tr th {\n",
       "        vertical-align: top;\n",
       "    }\n",
       "\n",
       "    .dataframe thead th {\n",
       "        text-align: right;\n",
       "    }\n",
       "</style>\n",
       "<table border=\"1\" class=\"dataframe\">\n",
       "  <thead>\n",
       "    <tr style=\"text-align: right;\">\n",
       "      <th></th>\n",
       "      <th>name</th>\n",
       "      <th>brewery_name</th>\n",
       "      <th>style</th>\n",
       "      <th>abv</th>\n",
       "      <th>ibu</th>\n",
       "      <th>review_overall</th>\n",
       "      <th>review_aroma</th>\n",
       "      <th>review_appearance</th>\n",
       "      <th>review_palate</th>\n",
       "      <th>review_taste</th>\n",
       "      <th>number_of_reviews</th>\n",
       "    </tr>\n",
       "  </thead>\n",
       "  <tbody>\n",
       "    <tr>\n",
       "      <td>651</td>\n",
       "      <td>Heady Topper</td>\n",
       "      <td>The Alchemist</td>\n",
       "      <td>American Double / Imperial IPA</td>\n",
       "      <td>0.080</td>\n",
       "      <td>120.0</td>\n",
       "      <td>4.532657</td>\n",
       "      <td>4.571402</td>\n",
       "      <td>4.014500</td>\n",
       "      <td>4.287964</td>\n",
       "      <td>4.513950</td>\n",
       "      <td>938</td>\n",
       "    </tr>\n",
       "    <tr>\n",
       "      <td>13</td>\n",
       "      <td>Abrasive Ale</td>\n",
       "      <td>Surly Brewing Company</td>\n",
       "      <td>American Double / Imperial IPA</td>\n",
       "      <td>0.097</td>\n",
       "      <td>120.0</td>\n",
       "      <td>4.273645</td>\n",
       "      <td>4.363197</td>\n",
       "      <td>4.088302</td>\n",
       "      <td>4.133166</td>\n",
       "      <td>4.294979</td>\n",
       "      <td>563</td>\n",
       "    </tr>\n",
       "    <tr>\n",
       "      <td>543</td>\n",
       "      <td>Furious</td>\n",
       "      <td>Surly Brewing Company</td>\n",
       "      <td>American IPA</td>\n",
       "      <td>0.062</td>\n",
       "      <td>99.0</td>\n",
       "      <td>4.214230</td>\n",
       "      <td>4.267364</td>\n",
       "      <td>4.167289</td>\n",
       "      <td>4.082763</td>\n",
       "      <td>4.275155</td>\n",
       "      <td>1224</td>\n",
       "    </tr>\n",
       "  </tbody>\n",
       "</table>\n",
       "</div>"
      ],
      "text/plain": [
       "             name           brewery_name                           style  \\\n",
       "651  Heady Topper          The Alchemist  American Double / Imperial IPA   \n",
       "13   Abrasive Ale  Surly Brewing Company  American Double / Imperial IPA   \n",
       "543       Furious  Surly Brewing Company                    American IPA   \n",
       "\n",
       "       abv    ibu  review_overall  review_aroma  review_appearance  \\\n",
       "651  0.080  120.0        4.532657      4.571402           4.014500   \n",
       "13   0.097  120.0        4.273645      4.363197           4.088302   \n",
       "543  0.062   99.0        4.214230      4.267364           4.167289   \n",
       "\n",
       "     review_palate  review_taste  number_of_reviews  \n",
       "651       4.287964      4.513950                938  \n",
       "13        4.133166      4.294979                563  \n",
       "543       4.082763      4.275155               1224  "
      ]
     },
     "execution_count": 61,
     "metadata": {},
     "output_type": "execute_result"
    }
   ],
   "source": [
    "grouped_beers_df.sort_values( by = 'review_overall', ascending = False ).head( 3 )"
   ]
  },
  {
   "cell_type": "code",
   "execution_count": null,
   "metadata": {},
   "outputs": [],
   "source": []
  },
  {
   "cell_type": "code",
   "execution_count": 65,
   "metadata": {},
   "outputs": [],
   "source": [
    "linear_model = LinearRegression( normalize = True )"
   ]
  },
  {
   "cell_type": "code",
   "execution_count": 68,
   "metadata": {},
   "outputs": [],
   "source": [
    "linear_model.fit( X = df[ [ 'review_aroma', 'review_appearance', 'review_palate', 'review_taste' ] ], y = df[ 'review_overall' ] )\n",
    "preds = linear_model.predict(df[ [ 'review_aroma', 'review_appearance', 'review_palate', 'review_taste' ] ] )"
   ]
  },
  {
   "cell_type": "code",
   "execution_count": 69,
   "metadata": {},
   "outputs": [
    {
     "data": {
      "text/plain": [
       "array([0.0728146 , 0.05632574, 0.27067864, 0.55199998])"
      ]
     },
     "execution_count": 69,
     "metadata": {},
     "output_type": "execute_result"
    }
   ],
   "source": [
    "linear_model.coef_"
   ]
  },
  {
   "cell_type": "code",
   "execution_count": 74,
   "metadata": {},
   "outputs": [
    {
     "data": {
      "text/plain": [
       "0.40413452353634166"
      ]
     },
     "execution_count": 74,
     "metadata": {},
     "output_type": "execute_result"
    }
   ],
   "source": [
    "np.sqrt(mean_squared_error(df['review_overall'], preds ) )"
   ]
  },
  {
   "cell_type": "code",
   "execution_count": 75,
   "metadata": {},
   "outputs": [],
   "source": [
    "# Taste is the most important Beer review"
   ]
  },
  {
   "cell_type": "code",
   "execution_count": 78,
   "metadata": {},
   "outputs": [
    {
     "data": {
      "image/png": "[encoded data removed]",
      "text/plain": [
       "<Figure size 504x360 with 1 Axes>"
      ]
     },
     "metadata": {
      "needs_background": "light"
     },
     "output_type": "display_data"
    }
   ],
   "source": [
    "plt.figure( figsize = ( 7, 5 ) )\n",
    "plt.scatter( grouped_beers_df[ 'number_of_reviews' ], grouped_beers_df[ 'review_overall' ], marker ='.', alpha = .5 )\n",
    "plt.xlabel( 'Number of Reviews' )\n",
    "plt.ylabel( 'Review Average' )\n",
    "plt.show()"
   ]
  },
  {
   "cell_type": "code",
   "execution_count": null,
   "metadata": {},
   "outputs": [],
   "source": []
  }
 ],
 "metadata": {
  "kernelspec": {
   "display_name": "Python 3",
   "language": "python",
   "name": "python3"
  },
  "language_info": {
   "codemirror_mode": {
    "name": "ipython",
    "version": 3
   },
   "file_extension": ".py",
   "mimetype": "text/x-python",
   "name": "python",
   "nbconvert_exporter": "python",
   "pygments_lexer": "ipython3",
   "version": "3.6.9"
  },
  "toc": {
   "base_numbering": 1,
   "nav_menu": {},
   "number_sections": true,
   "sideBar": true,
   "skip_h1_title": false,
   "title_cell": "Table of Contents",
   "title_sidebar": "Contents",
   "toc_cell": false,
   "toc_position": {},
   "toc_section_display": true,
   "toc_window_display": false
  }
 },
 "nbformat": 4,
 "nbformat_minor": 2
}
